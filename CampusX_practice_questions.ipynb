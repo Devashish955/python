{
 "cells": [
  {
   "cell_type": "code",
   "execution_count": null,
   "id": "b592b6fc-1011-469a-a4f6-2a1a3c53115c",
   "metadata": {},
   "outputs": [],
   "source": [
    "# NOTES :-\n",
    "\n",
    "# Q1 -> sep and end :-\n",
    "\n",
    "# Ans :- In Python, the sep and end parameters in the print() function control how output is formatted:\n",
    "# sep: Defines the separator between multiple values. Default is a space.\n",
    "# end: Defines what is printed at the end of the output. Default is a newline ('\\n').\n",
    "# Example :- print(\"Hello\", \"World\", sep=\"-\", end=\"!\")\n",
    "#            output :- Hello-World!\n",
    "\n",
    "\n",
    "#-----------------------------------------------------------------------------------------------------------------------------------------------------------------------------------------------------------------------------------------------\n",
    "\n",
    "\n",
    "# Q2 -> import math\n",
    "#        math.floor().\n",
    "# Ans :- math.floor() function ko samajhne ke liye ek simple example se dekhte hain.\n",
    "#         Agar tumhare paas ek decimal number hai, jaise 5.9,     \n",
    "#         aur tumhe uska chhota integer chahiye, to math.floor() use hota hai. Ye function decimal value ka niche ka integer deta hai.\n",
    "# Example :- import math\n",
    "\n",
    "#            result = math.floor(5.9)\n",
    "#            print(result)\n",
    "# Output :-  5\n",
    "# Yahaan 5.9 ka integer part 5 hai, jo 5.9 se chhota hai. To math.floor(5.9) return karega 5.\n",
    "# Iska matlab, math.floor() decimal number ka niche ka round karta hai, jo number se chhota ya uske barabar hota hai.\n",
    "\n",
    "\n",
    "#-----------------------------------------------------------------------------------------------------------------------------------------------------------------------------------------------------------------------------------------------\n",
    "\n",
    "\n",
    "# Q3 -> '{}/{}'.format(rn, rd) ??\n",
    "# Ans :- Example :- rn = 5\n",
    "#                   rd = 10\n",
    "#                   print('{}/{}'.format(rn, rd))   #Output :- 5/10\n",
    "\n",
    "# Yeh code rn aur rd ki values ko / ke saath format karke print karta hai.\n",
    "# Note :- aagr syntax mei mei {} in bracket ki jaga aur koi bracket use karlu i.e '()/()'.format(rn, rd)\n",
    "#         then,\n",
    "#              Is code mein tumne {} ki jagah () use kiya hai, lekin .format() method ko placeholders ke liye {} chahiye hote hain.\n",
    "#              Isliye, () placeholders ko recognize nahi karta, aur output generate nahi hota.\n",
    "#              print('{}/{}'.format(rn, rd))\n",
    "#              Iska output hoga: 5/10\n",
    "#              Agar tumhe output me () show karna hai, toh tum {} ko aise use kar sakte ho:- print('({})/({})'.format(rn, rd))\n",
    "#              Iska output hoga :- (5)/(10)\n",
    "\n",
    "\n",
    "#-----------------------------------------------------------------------------------------------------------------------------------------------------------------------------------------------------------------------------------------------\n",
    "\n",
    "\n",
    "# Q4 :- Round Function in Python ??\n",
    "# Ans :- Purpose: round() function ka use kisi number ko specific decimal places tak round off karne ke liye hota hai.\n",
    "\n",
    "# Syntax: round(number, digits)\n",
    "# number: Jis number ko round karna hai.\n",
    "# digits: Kitne decimal places tak round karna hai.\n",
    "# EXAMPLE :-\n",
    "#            value = 12.34567\n",
    "#            rounded_value = round(value, 2)  # 2 decimal places tak round karta hai\n",
    "#            print(rounded_value)  # Output: 12.35\n",
    "# Explanation: Is example mein, 12.34567 ko round karke 12.35 banaya gaya hai, sirf 2 decimal places tak.\n",
    "\n",
    "#-----------------------------------------------------------------------------------------------------------------------------------------------------------------------------------------------------------------------------------------------\n",
    "\n",
    "# Q5 :- This is a code of problem 10.\n",
    "#      L = [] # this is list\n",
    "#      for i in range(2000,3201):\n",
    "#        if i % 7 == 0 and i % 5 != 0:\n",
    "#          L.append(str(i))\n",
    "#    print(\",\".join(L))\n",
    "\n",
    "#Ans :-\n",
    "#       1 --> Question: Humne str(i) kyun use kiya i ki jagah?\n",
    "#       Answer:\n",
    "#              \",\".join(L) function sirf strings ke saath kaam karta hai. Agar tum list L mein directly i (jo integer hai) ko add karoge,\n",
    "#               toh error aayega, kyunki join() ko strings chahiye hoti hain.\n",
    "#               Isliye, humne i ko string banane ke liye str(i) ka use kiya.\n",
    "#               Jab i ko string mei convert karenge, toh join() function kaam karega.\n",
    "#               Example:\n",
    "#                       Agar i = 2021 hai, aur tumhe isse list mein add karna hai, toh str(i) banayega \"2021\", jo ek string hai.\n",
    "\n",
    "#      2 --> Question: join() function kya karta hai?\n",
    "#      Answer:\n",
    "#             join() function list ke sabhi elements ko ek string banata hai, \n",
    "#             aur un elements ke beech ek specified separator (jaise comma ,) daalta hai.\n",
    "#             Example:\n",
    "#                     Agar list L = ['apple', 'banana', 'cherry'] hai, aur tum \",\".join(L) likhte ho, toh output hoga: \"apple,banana,cherry\".\n",
    "#                     Har element ke beech comma aayega.\n",
    "#                     Iska syntax hai: separator.join(list). Yahan separator wo symbol hai jo tum list ke elements ke beech chahte ho (jaise comma ya space).\n",
    "\n",
    "\n",
    "#-----------------------------------------------------------------------------------------------------------------------------------------------------------------------------------------------------------------------------------------------\n",
    "\n",
    "# Q6 :- split() and pass ?? (Used in problem 11)\n",
    "\n",
    "# Ans :-\n",
    "#        1. What is split()?\n",
    "#        Ans :- split() ek string ko chhote parts mein todta hai, based on a specified separator.\n",
    "#               Default separator space hota hai, agar tum kuch specify nahi karte ho.\n",
    "#               Example:\n",
    "#                      text = \"Hello World\"\n",
    "#                      words = text.split()  # Space se split karega\n",
    "#                      print(words)\n",
    "\n",
    "#                     Output:['Hello', 'World']\n",
    "\n",
    "#         2. What is pass?\n",
    "#         Ans :-pass ek placeholder statement hai jo kuch nahi karta. Jab tumhe ek code block ko temporarily empty chodna ho, toh use hota hai.\n",
    "#               Example:\n",
    "#                      def my_function():\n",
    "#                          pass  # Abhi ke liye function empty hai, koi error nahi aayega\n",
    "#                      if True:\n",
    "#                         pass  # Conditional block bhi empty hai\n",
    "\n",
    "\n",
    "#---------------------------------------------------------------------------------------------------------------------------------------------------------------------------------------------------------------------------------------------------------\n",
    "\n",
    "# Q7 :- Explanation of [[i, j] for (i, j) in zip(list1, list2)] ?\n",
    "\n",
    "# Ans :- Purpose: This line of code combines corresponding elements from two lists (list1 and list2) into pairs and stores them as lists within a larger list.\n",
    "\n",
    "#        Key Concepts:\n",
    "\n",
    "#        zip(list1, list2):\n",
    "\n",
    "#        Function: zip ka kaam do ya zyada lists ke corresponding (same position par) elements ko pair (tuple) mein combine karna hota hai.\n",
    "#        Example: Agar list1 = [\"M\", \"na\", \"i\", \"Kh\"] aur list2 = [\"y\", \"me\", \"s\", \"an\"] ho, to zip(list1, list2) result dega: (\"M\", \"y\"), (\"na\", \"me\"), (\"i\", \"s\"), (\"Kh\", \"an\").\n",
    "#        Note: Agar lists ki length alag ho, to zip function chhoti list ke end tak pair banata hai.\n",
    "#        List Comprehension:\n",
    "\n",
    "#        [i, j] for (i, j) in zip(list1, list2) creates a list [i, j] for each pair (i, j) from the zip function.\n",
    "#        This generates a new list with each pair from list1 and list2 as separate lists inside it.\n",
    "#        Output:\n",
    "\n",
    "#        The final result is a list of lists, where each inner list contains a pair of corresponding elements from list1 and list2.\n",
    "#         Example Output:\n",
    "#         python\n",
    "#         Copy code\n",
    "#         [['M', 'y'], ['na', 'me'], ['i', 's'], ['Kh', 'an']]\n",
    "\n",
    "\n",
    "#--------------------------------------------------------------------------------------------------------------------------------------------------------------------------------------------------------------------------------------------------------------\n",
    "\n",
    "# Q8 :- Why we use set() function inside sorted() i.e. sorted(set()) ??\n",
    "\n",
    "# Ans :-\n",
    "#       Finding Common Unique Items Between Two Lists\n",
    "#        Example with set(): \n",
    "#                           num1 = [23, 45, 67, 78, 89, 34]\n",
    "#                           num2 = [34, 89, 55, 56, 39, 67]\n",
    "\n",
    "#                           common = []\n",
    "#                           for i in num1:\n",
    "#                               if i in num2:\n",
    "#                                   common.append(i)\n",
    "\n",
    "#                           common_sorted = sorted(set(common))\n",
    "#                           print(common_sorted)\n",
    "\n",
    "# Purpose: The set() is used to remove duplicates from the common list before sorting.\n",
    "# Output: [34, 67, 89]\n",
    "# When to Use: Use this method if you need unique common elements. The set() ensures that any duplicate elements are removed before sorting.\n",
    "\n",
    "# Example without set():\n",
    "#                       num1 = [23, 45, 67, 78, 89, 34]\n",
    "#                       num2 = [34, 89, 55, 56, 39, 67]\n",
    "\n",
    "#                       common = []\n",
    "#                       for i in num1:\n",
    "#                           if i in num2:\n",
    "#                              common.append(i)\n",
    "\n",
    "#                       common_sorted = sorted(common)\n",
    "#                       print(common_sorted)\n",
    "# Purpose: This version does not remove duplicates. It only sorts the common elements as they appear.\n",
    "# Output: The output can include duplicates, for example [34, 67, 67, 89] if common contains duplicates.\n",
    "# When to Use: Use this method if you don't need unique common elements and want to keep any duplicates.\n",
    "\n",
    "\n",
    "\n",
    "#------------------------------------------------------------------------------------------------------------------------------------------------------------------------------------------------------\n",
    "\n",
    "#Q9 :- map() function ??? (used in :- task 5 :- Q1 😊😊).\n",
    "\n",
    "# Ans :- \n",
    "#        map() Function in Python\n",
    "#        Definition: The map() function applies a given function to each item \n",
    "#                    in an iterable (like a list or tuple) and returns a map object. You can convert this map object to a list, tuple, etc.\n",
    "\n",
    "#        Syntax:\n",
    "#               map(function, iterable)\n",
    "#        Example :-\n",
    "#                   numbers = [[1,2,3] , [4,5,6] ,[8,9,10]]\n",
    "#                   print(list(map(tuple , numbers))) #Output :- [(1,2,3) , (4,5,6) , (8,9,10)]\n",
    "\n",
    "\n",
    "#--------------------------------------------------------------------------------------------------------------------------------------------------------------------------------------------------------------------------------\n",
    "\n",
    "#Q10 :- & Operator for Set Intersection in Python ??\n",
    "\n",
    "#Ans :-\n",
    "#       Purpose: The & operator finds common elements between two sets.\n",
    "#       Usage: set1 & set2 returns a new set with elements present in both set1 and set2.\n",
    "#       Example:\n",
    "#              set1 = {1, 2, 3, 4}\n",
    "#              set2 = {3, 4, 5, 6}\n",
    "#              result = set1 & set2  # Output: {3, 4}\n",
    "\n",
    "# Alternative: You can also use set1.intersection(set2) to get the same result.\n",
    "\n",
    "\n",
    "#--------------------------------------------------------------------------------------------------------------------------------------------------------------------------------------------------------------------------------\n",
    "\n",
    "#Q11 :- update() Method in Python Sets ??\n",
    "\n",
    "#Ans :- \n",
    "#      Purpose: Adds multiple elements to a set.\n",
    "#      Usage: set.update(iterable)\n",
    "#      Example:\n",
    "#              my_set = {1, 2, 3}\n",
    "#              my_set.update([4, 5])  # Adds 4, 5 to the set\n",
    "#                                     Output: {1, 2, 3, 4, 5}\n",
    "\n",
    "# Note: 1:-  Adds elements from lists, sets, or other iterables.\n",
    "#       2:- If you want to add single element in the set then you use add function.\n",
    "#           Example :-\n",
    "#                     my_set = {1, 2, 3}\n",
    "#                     my_set.add(4)  # Adds the element 4 to the set\n",
    "\n",
    "#                     print(my_set)  # Output: {1, 2, 3, 4}"
   ]
  },
  {
   "cell_type": "code",
   "execution_count": null,
   "id": "3861c707-4895-4f1e-924d-30223cd69ad3",
   "metadata": {},
   "outputs": [],
   "source": [
    "# TASK 1 :-"
   ]
  },
  {
   "cell_type": "code",
   "execution_count": 10,
   "id": "db7f8999-b22c-4ec5-b213-7ba214904d50",
   "metadata": {},
   "outputs": [
    {
     "name": "stdout",
     "output_type": "stream",
     "text": [
      "Data-Science-Mentorship-program-started-By-CampusX\n"
     ]
    }
   ],
   "source": [
    "# Q1 :- Print the given strings as per stated format.\n",
    "# Given strings:\n",
    "# \"Data\" \"Science\" \"Mentorship\" \"Program\" \n",
    "# \"By\" \"CampusX\"\n",
    "\n",
    "# Output:\n",
    "# Data-Science-Mentorship-Program-started-By-CampusX\n",
    "\n",
    "print(\"Data\",\"Science\",\"Mentorship\",\"program\",sep = \"-\",end = \"-started-\")\n",
    "print(\"By\",\"CampusX\",sep = \"-\")"
   ]
  },
  {
   "cell_type": "code",
   "execution_count": 18,
   "id": "c89f508f-c1f9-414a-97cb-3e7d178ede86",
   "metadata": {},
   "outputs": [
    {
     "name": "stdin",
     "output_type": "stream",
     "text": [
      "Enter the Temperature in Celsius :-  35\n"
     ]
    },
    {
     "name": "stdout",
     "output_type": "stream",
     "text": [
      "Temperature in Fahrenheit :-  95.0 F\n"
     ]
    }
   ],
   "source": [
    "# Q2:- Write a program that will convert celsius value to fahrenheit.\n",
    "# Hint :- Fahrenheit=(Celsius x 9/5) + 32.\n",
    "\n",
    "cel = int(input(\"Enter the Temperature in Celsius :- \"))\n",
    "fah = (cel * (9/5)) + 32\n",
    "print(\"Temperature in Fahrenheit :- \",fah,\"F\")\n",
    "              "
   ]
  },
  {
   "cell_type": "code",
   "execution_count": 24,
   "id": "3132d880-9908-49d6-8e41-2cac95d02a31",
   "metadata": {},
   "outputs": [
    {
     "name": "stdin",
     "output_type": "stream",
     "text": [
      "Enter the first Number :-  5\n",
      "Enter the second Number :-  10\n"
     ]
    },
    {
     "name": "stdout",
     "output_type": "stream",
     "text": [
      "\n",
      "\n",
      "First Number (num1) before swapping :-  5\n",
      "Second Number (num2) before swapping :-  10\n",
      "\n",
      "\n",
      "First Number (num1) after swapping :-  10\n",
      "Second Number (num2) after swapping :-  5\n"
     ]
    }
   ],
   "source": [
    "# Q3:- Take 2 numbers as input from the user.Write a program to swap the numbers without using any special python syntax. \n",
    "\n",
    "num1 = int(input(\"Enter the first Number :- \"))\n",
    "num2 = int(input(\"Enter the second Number :- \"))\n",
    "print(\"\\n\")\n",
    "print(\"First Number (num1) before swapping :- \",num1)\n",
    "print(\"Second Number (num2) before swapping :- \",num2)\n",
    "print(\"\\n\")\n",
    "temp = num1\n",
    "num1 = num2\n",
    "num2 = temp\n",
    "print(\"First Number (num1) after swapping :- \",num1)\n",
    "print(\"Second Number (num2) after swapping :- \",num2)\n"
   ]
  },
  {
   "cell_type": "code",
   "execution_count": 28,
   "id": "8573605c-6095-4fe2-afba-db86dcb92e1d",
   "metadata": {},
   "outputs": [
    {
     "name": "stdin",
     "output_type": "stream",
     "text": [
      "Enter the value of x1 in coordinate 1 :-  0\n",
      "Enter the value of y1 in coordinate 1 :-  0\n",
      "Enter the value of x2 in coordinate 2 :-  2\n",
      "Enter the value of y2 in coordinate 2 :-  2\n"
     ]
    },
    {
     "name": "stdout",
     "output_type": "stream",
     "text": [
      "Distance between Two coordinates is :-  2.8284271247461903\n"
     ]
    }
   ],
   "source": [
    "# Q4:- Write a program to find the euclidean distance between two coordinates.Take both the coordinates from the user as input.\n",
    "\n",
    "x1 = int(input(\"Enter the value of x1 in coordinate 1 :- \"))\n",
    "y1 = int(input(\"Enter the value of y1 in coordinate 1 :- \"))\n",
    "x2 = int(input(\"Enter the value of x2 in coordinate 2 :- \"))\n",
    "y2 = int(input(\"Enter the value of y2 in coordinate 2 :- \"))\n",
    "distance = (  (x2-x1)**2  +  (y2-y1)**2 )**0.5\n",
    "print(\"Distance between Two coordinates is :- \",distance)\n",
    "\n"
   ]
  },
  {
   "cell_type": "code",
   "execution_count": 32,
   "id": "afe5ee90-16dd-4ab8-9eb4-dcb8a1d7eaf3",
   "metadata": {},
   "outputs": [
    {
     "name": "stdin",
     "output_type": "stream",
     "text": [
      "Enter the Amount :-  10000\n",
      "Enter the rate of Interest :-  5\n",
      "Enter the time period :-  2\n"
     ]
    },
    {
     "name": "stdout",
     "output_type": "stream",
     "text": [
      "Simple Interest is :-  1000.0\n"
     ]
    }
   ],
   "source": [
    "# Q5:- Write a program to find the simple interest when the value of principle,rate of interest and time period is provided by the user.\n",
    "# Hint - si = (p * t * r)/100\n",
    "\n",
    "p = int(input(\"Enter the Amount :- \"))\n",
    "r = int(input(\"Enter the rate of Interest :- \"))\n",
    "t = int(input(\"Enter the time period :- \"))\n",
    "si = (p * r * t) / 100\n",
    "print(\"Simple Interest is :- \",si)"
   ]
  },
  {
   "cell_type": "code",
   "execution_count": 34,
   "id": "855bdcba-0097-4ee7-8eb8-7b44e614853a",
   "metadata": {},
   "outputs": [
    {
     "name": "stdin",
     "output_type": "stream",
     "text": [
      "Enter the number Upto which you want sum of squares of natural numbers :-  5\n"
     ]
    },
    {
     "name": "stdout",
     "output_type": "stream",
     "text": [
      "Sum of squares of natural numbers :-  55.0\n"
     ]
    }
   ],
   "source": [
    "# Q6:- Write a program to find the sum of squares of first n natural numbers where n will be provided by the user.\n",
    "# Hint - Thus, the sum of the squares of first n natural numbers = n(n+1)(2n+1)/6.\n",
    "\n",
    "n = int(input(\"Enter the number Upto which you want sum of squares of natural numbers :- \"))\n",
    "sum = (n * (n+1) * (2*n + 1)) / 6\n",
    "print(\"Sum of squares of natural numbers :- \",sum)"
   ]
  },
  {
   "cell_type": "code",
   "execution_count": 38,
   "id": "1c0285d3-8123-4a46-ab88-950e53cdf90c",
   "metadata": {},
   "outputs": [
    {
     "name": "stdin",
     "output_type": "stream",
     "text": [
      "Enter the first term :-  3\n",
      "Enter the second term :-  6\n",
      "enter the term number :-  5\n"
     ]
    },
    {
     "name": "stdout",
     "output_type": "stream",
     "text": [
      "Nth term of the series is :-  15\n"
     ]
    }
   ],
   "source": [
    "# Q7:- Given the first 2 terms of an Arithmetic Series.Find the Nth term of the series. Assume all inputs are provided by the user.\n",
    "# Hint -> an = a + (n – 1)d.\n",
    "# where , an is the Nth term.\n",
    "#         a is first term.\n",
    "#         n is the term number.\n",
    "#         d is the common difference.\n",
    "\n",
    "first_term = int(input(\"Enter the first term :- \"))\n",
    "second_term = int(input(\"Enter the second term :- \"))\n",
    "n = int(input(\"enter the term number :- \"))\n",
    "d = second_term - first_term\n",
    "\n",
    "an = first_term + (n - 1) * d\n",
    "print(\"Nth term of the series is :- \",an)\n",
    "\n",
    "\n",
    "\n"
   ]
  },
  {
   "cell_type": "code",
   "execution_count": 48,
   "id": "b3269b88-491a-4dba-9a1e-2f176ca89a4b",
   "metadata": {},
   "outputs": [
    {
     "name": "stdin",
     "output_type": "stream",
     "text": [
      "Enter the height of milk tank :-  10\n",
      "Enter the length of milk tank :-  19\n",
      "Enter the breath of milk tank :-  10\n",
      "Enter the radius of the glass :-  2\n",
      "Enter the height of glass :-  5\n"
     ]
    },
    {
     "name": "stdout",
     "output_type": "stream",
     "text": [
      "No.of glasses :-  30\n"
     ]
    }
   ],
   "source": [
    "# Q 8:- Given the height, width and breadth of a milk tank, you have to find out how many glasses of milk can be obtained? \n",
    "# Assume all the inputs are provided by the user.\n",
    "# Input:\n",
    "# Dimensions of the milk tank\n",
    "# H = 20cm, L = 20cm, B = 20cm\n",
    "\n",
    "# Dimensions of the glass\n",
    "# h = 3cm, r = 1cm\n",
    "\n",
    "import math\n",
    "\n",
    "h_t = float(input(\"Enter the height of milk tank :- \"))\n",
    "l_t = float(input(\"Enter the length of milk tank :- \"))\n",
    "b_t = float(input(\"Enter the breath of milk tank :- \"))\n",
    "r_g = float(input(\"Enter the radius of the glass :- \"))\n",
    "h_g = float(input(\"Enter the height of glass :- \"))\n",
    "vol_t = l_t * b_t * h_t\n",
    "vol_g = 3.14 * r_g * r_g * h_g\n",
    "\n",
    "print(\"No.of glasses :- \",math.floor(vol_t/vol_g))"
   ]
  },
  {
   "cell_type": "code",
   "execution_count": 4,
   "id": "05a20a59-ca6b-496f-a0cf-afd9e0fa7cc5",
   "metadata": {},
   "outputs": [
    {
     "name": "stdin",
     "output_type": "stream",
     "text": [
      "Enter the No. of heads :-  4\n",
      "Enter the No. of Legs :-  12\n"
     ]
    },
    {
     "name": "stdout",
     "output_type": "stream",
     "text": [
      "\n",
      "\n",
      "No. of dogs =  2.0\n",
      "No. of chicken =  2.0\n"
     ]
    }
   ],
   "source": [
    "# Q9:- Write a program that will tell the number of dogs and chicken are there when the user will provide the value of total heads and legs.\n",
    "# For example: Input: heads -> 4 legs -> 12\n",
    "# Output: dogs -> 2 chicken -> 2\n",
    "\n",
    "head = int(input(\"Enter the No. of heads :- \"))\n",
    "leg = int(input(\"Enter the No. of Legs :- \"))\n",
    "print(\"\\n\")\n",
    "chicken = (4*head - leg) / 2\n",
    "dog = head - chicken\n",
    "print(\"No. of dogs = \",dog)\n",
    "print(\"No. of chicken = \",chicken)"
   ]
  },
  {
   "cell_type": "code",
   "execution_count": 16,
   "id": "7a54c995-9f37-4501-9f0d-597d2d2b2329",
   "metadata": {},
   "outputs": [
    {
     "name": "stdin",
     "output_type": "stream",
     "text": [
      "Enter the numerator 1 :-  3\n",
      "Enter the denominator 2 :-  7\n",
      "Enter the numerator 2 :-  2\n",
      "Enter the denominator 2 :-  11\n"
     ]
    },
    {
     "name": "stdout",
     "output_type": "stream",
     "text": [
      "47/77\n"
     ]
    }
   ],
   "source": [
    "# Q10:- Given 2 fractions, find the sum of those 2 fractions.Take the numerator and denominator values of the fractions from the user.\n",
    "\n",
    "num1 = int(input(\"Enter the numerator 1 :- \"))\n",
    "deno1 = int(input(\"Enter the denominator 2 :- \"))\n",
    "num2 = int(input(\"Enter the numerator 2 :- \"))\n",
    "deno2 = int(input(\"Enter the denominator 2 :- \"))\n",
    "\n",
    "# sum = ((num1 * deno2) + (num2 * deno1)) / (deno1 * deno2)\n",
    "# print(\"Sum of two fractions is :- \",sum)\n",
    "\n",
    "# another method to write this.\n",
    "rn = (num1 * deno2) + (num2 * deno1)\n",
    "rd =  deno1 * deno2\n",
    "\n",
    "print('{}/{}'.format(rn, rd))"
   ]
  },
  {
   "cell_type": "code",
   "execution_count": null,
   "id": "ea411663-a5da-446a-bb06-c5f13f81f360",
   "metadata": {},
   "outputs": [],
   "source": [
    "# TASK 2 :-"
   ]
  },
  {
   "cell_type": "code",
   "execution_count": 2,
   "id": "1374b33f-4dbf-4a6d-94a1-db73fd89dce8",
   "metadata": {},
   "outputs": [
    {
     "name": "stdin",
     "output_type": "stream",
     "text": [
      "Enter your ctc (Cost to company) :-  1200000\n"
     ]
    },
    {
     "name": "stdout",
     "output_type": "stream",
     "text": [
      "Your Inhand monthly salary after deduction :-  62000.0\n"
     ]
    }
   ],
   "source": [
    "# Problem 1: Write a program that will give you in hand monthly salary after deduction on CTC - HRA(10%),\n",
    "# DA(5%), PF(3%) and taxes deduction as below:\n",
    "\n",
    "# Salary(Lakhs) : Tax(%)\n",
    "# Below 5 : 0%\n",
    "# 5-10 : 10%\n",
    "# 10-20 : 20%\n",
    "# above 20 : 30%\n",
    "\n",
    "ctc = int(input(\"Enter your anual ctc (Cost to company) :- \"))\n",
    "if(ctc < 500000):\n",
    "    salary = ctc * 0.82\n",
    "elif(ctc < 1000000):\n",
    "    salary = ctc * 0.72\n",
    "elif(ctc < 2000000):\n",
    "    salary = ctc * 0.62\n",
    "else:\n",
    "    salary = ctc * 0.52\n",
    "\n",
    "print(\"Your Inhand monthly salary after deduction :- \",round(salary/12,2))"
   ]
  },
  {
   "cell_type": "code",
   "execution_count": 8,
   "id": "aaefda05-017b-4506-8843-540b517ad15c",
   "metadata": {},
   "outputs": [
    {
     "name": "stdin",
     "output_type": "stream",
     "text": [
      "Enter the angle_1 :-  60\n",
      "Enter the angle_2 :-  60\n",
      "Enter the angle_3 :-  60\n"
     ]
    },
    {
     "name": "stdout",
     "output_type": "stream",
     "text": [
      "forms a triangle\n"
     ]
    }
   ],
   "source": [
    "# Problem 2: Write a program that take a user input of three angles and will find out whether it can form a triangle or not.\n",
    "# Hint - Sum of all angles is 180 and all angles are positive.\n",
    "\n",
    "a1 = int(input(\"Enter the angle_1 :- \"))\n",
    "a2 = int(input(\"Enter the angle_2 :- \"))\n",
    "a3 = int(input(\"Enter the angle_3 :- \"))\n",
    "\n",
    "sum = a1 + a2 + a3\n",
    "if(sum == 180 and a1 > 0 and a2 > 0 and a3 > 0):\n",
    "    print(\"forms a triangle\")\n",
    "else:\n",
    "    print(\"Does not forms a triangle\")"
   ]
  },
  {
   "cell_type": "code",
   "execution_count": 14,
   "id": "55af2b8c-7dcc-4541-b411-56625eadefc2",
   "metadata": {},
   "outputs": [
    {
     "name": "stdin",
     "output_type": "stream",
     "text": [
      "Enter the cost price :-  10\n",
      "Enter the selling price :-  10\n"
     ]
    },
    {
     "name": "stdout",
     "output_type": "stream",
     "text": [
      "No Loss No Gain\n"
     ]
    }
   ],
   "source": [
    "# Problem 3: Write a program that will take user input of cost price and \n",
    "# selling price and determines whether its a loss or a profit.\n",
    "\n",
    "cost_price = int(input(\"Enter the cost price :- \"))\n",
    "selling_price = int(input(\"Enter the selling price :- \"))\n",
    "if(cost_price < selling_price):\n",
    "    print(\"Profit\")\n",
    "elif(selling_price < cost_price):\n",
    "    print(\"Loss\")\n",
    "else:\n",
    "    print(\"No Loss No Gain\")"
   ]
  },
  {
   "cell_type": "code",
   "execution_count": 6,
   "id": "30170526-6e89-4fa9-acfb-882caa737d2f",
   "metadata": {},
   "outputs": [
    {
     "name": "stdin",
     "output_type": "stream",
     "text": [
      " Hello!\n",
      "choose an option from the MENU\n",
      "1 -> cm to ft\n",
      "2 -> km to miles\n",
      "3 -> USD to INR\n",
      "4 -> Exit \n",
      " 1\n",
      "\n",
      "Enter the cm Value :-  10\n"
     ]
    },
    {
     "name": "stdout",
     "output_type": "stream",
     "text": [
      "Value in Ft =  0.32\n"
     ]
    }
   ],
   "source": [
    "# Problem 4: Write a menu-driven program -\n",
    "# 1-> cm to ft\n",
    "# 2-> km to miles\n",
    "# 3-> USD to INR\n",
    "# 4-> exit\n",
    "\n",
    "# Hint\n",
    "\n",
    "# 1 cm = 0.032ft\n",
    "# 1km = 0.62\n",
    "# 1 USD = 80 INR\n",
    "\n",
    "menu = int(input(\"\"\" Hello!\n",
    "choose an option from the MENU\n",
    "1 -> cm to ft\n",
    "2 -> km to miles\n",
    "3 -> USD to INR\n",
    "4 -> Exit \\n\"\"\"))\n",
    "\n",
    "if(menu == 1):\n",
    "    cm = float(input(\"\\nEnter the cm Value :- \"))\n",
    "    ft = cm * 0.032\n",
    "    print(\"Value in Ft = \",ft)\n",
    "elif(menu == 2):\n",
    "    km = float(input(\"\\nEnter the km Value :- \"))\n",
    "    miles = km * 0.62\n",
    "    print(\"Value in Miles :- \",miles)\n",
    "elif(menu == 3):\n",
    "    usd = float(input(\"\\nEnter the USD value :- \"))\n",
    "    inr = usd * 80\n",
    "    print(\"Value in INR :- \",inr)\n",
    "else:\n",
    "    print(\"Exit\")"
   ]
  },
  {
   "cell_type": "code",
   "execution_count": 10,
   "id": "3afebeb9-ded2-4ae3-916a-b0e4761d14cf",
   "metadata": {},
   "outputs": [
    {
     "name": "stdout",
     "output_type": "stream",
     "text": [
      "0,1,1,2,3,5,8,13,21,34,"
     ]
    }
   ],
   "source": [
    "# Problem 5 - Exercise 12: Display Fibonacci series up to 10 terms.\n",
    "# Note: The Fibonacci Sequence is a series of numbers. The next number is found by adding up the two numbers before it. \n",
    "# The first two numbers are 0 and 1. For example, 0, 1, 1, 2, 3, 5, 8, 13, 21. The next number in this series above is 13+21 = 34.\n",
    "\n",
    "first_num = 0\n",
    "second_num = 1\n",
    "print(first_num,second_num,sep = ',', end = ',') \n",
    "\n",
    "for i in range(8):\n",
    "    next_num = first_num + second_num\n",
    "    first_num = second_num\n",
    "    second_num = next_num\n",
    "    print(next_num , end = ',')"
   ]
  },
  {
   "cell_type": "code",
   "execution_count": 7,
   "id": "fee8329d-36f2-448d-8de7-2115d8699c22",
   "metadata": {},
   "outputs": [
    {
     "name": "stdin",
     "output_type": "stream",
     "text": [
      "Enter the number :-  5\n"
     ]
    },
    {
     "name": "stdout",
     "output_type": "stream",
     "text": [
      "Factorial of the give number is   120\n"
     ]
    }
   ],
   "source": [
    "# Problem 6 - Find the factorial of a given number.\n",
    "# Write a program to use the loop to find the factorial of a given number.\n",
    "# The factorial (symbol: !) means to multiply all whole numbers from the chosen number down to 1.\n",
    "# For example: calculate the factorial of 5\n",
    "\n",
    "# 5! = 5 × 4 × 3 × 2 × 1 = 120\n",
    "# Output:\n",
    "# 120\n",
    "\n",
    "num = int(input(\"Enter the number :- \"))\n",
    "fact = 1\n",
    "for i in range(1 , num + 1):\n",
    "    fact = fact * i\n",
    "\n",
    "print(\"Factorial of the give number is  \",fact)    "
   ]
  },
  {
   "cell_type": "code",
   "execution_count": 6,
   "id": "8765734e-5552-4510-bd0a-31dd0f0f0c47",
   "metadata": {},
   "outputs": [
    {
     "name": "stdin",
     "output_type": "stream",
     "text": [
      "Enter the number :-  123456789\n"
     ]
    },
    {
     "name": "stdout",
     "output_type": "stream",
     "text": [
      "Number before reverse :-  123456789\n",
      "Number After reverse :-  987654321\n"
     ]
    }
   ],
   "source": [
    "# Problem 7 - Reverse a given integer number.\n",
    "# Example:\n",
    "# Input: 76542\n",
    "# Output: 24567\n",
    "\n",
    "num = int(input(\"Enter the number :- \"))\n",
    "rev = 0\n",
    "print(\"Number before reverse :- \", num)\n",
    "while(num > 0):\n",
    "    last = num % 10\n",
    "    rev = rev * 10 + last\n",
    "    num = num // 10\n",
    "\n",
    "print(\"Number After reverse :- \", rev)"
   ]
  },
  {
   "cell_type": "code",
   "execution_count": 22,
   "id": "87d432d7-bbd3-4611-8058-b70ff051eab9",
   "metadata": {},
   "outputs": [
    {
     "name": "stdin",
     "output_type": "stream",
     "text": [
      "Enter the Number :-  30\n"
     ]
    },
    {
     "name": "stdout",
     "output_type": "stream",
     "text": [
      "Sum :-  276\n"
     ]
    }
   ],
   "source": [
    "# Problem 8: Take a user input as integer N. Find out the sum from 1 to N. If any number is divisible by 5, then skip that number.\n",
    "# And if the sum is greater than 300, don't need to calculate the sum further more. Print the final result. \n",
    "# And don't use for loop to solve this problem.\n",
    "# Example 1:\n",
    "#           Input:30\n",
    "#           Output:276     \n",
    "\n",
    "num = int(input(\"Enter the Number :- \"))\n",
    "i = 1\n",
    "sum = 0\n",
    "\n",
    "while(i <= num):\n",
    "    if(i % 5 == 0):\n",
    "        i += 1\n",
    "        continue\n",
    "    \n",
    "    sum += i\n",
    "    \n",
    "    if(sum > 300):\n",
    "        sum -= i\n",
    "        break\n",
    "    \n",
    "    i += 1    \n",
    "\n",
    "print(\"Sum :- \",sum)"
   ]
  },
  {
   "cell_type": "code",
   "execution_count": 30,
   "id": "c6550c2c-92de-49a4-ba39-3d2fca8d2f60",
   "metadata": {},
   "outputs": [
    {
     "name": "stdin",
     "output_type": "stream",
     "text": [
      "Enter a number :-  1\n",
      "Enter a number :-  2\n",
      "Enter a number :-  4\n",
      "Enter a number :-  5\n",
      "Enter a number :-  6\n",
      "Enter a number :-  7\n",
      "Enter a number :-  8\n",
      "Enter a number :-  9\n",
      "Enter a number :-  10\n",
      "Enter a number :-  11\n",
      "Enter a number :-  12\n",
      "Enter a number :-  13\n",
      "Enter a number :-  14\n",
      "Enter a number :-  15\n",
      "Enter a number :-  16\n",
      "Enter a number :-  17\n",
      "Enter a number :-  18\n",
      "Enter a number :-  19\n",
      "Enter a number :-  20\n",
      "Enter a number :-  0\n"
     ]
    },
    {
     "name": "stdout",
     "output_type": "stream",
     "text": [
      "Sum of numbers is :-  207\n",
      "Average of number is :-  10.894736842105264\n"
     ]
    }
   ],
   "source": [
    "# Problem 9: Write a program that keeps on accepting a number from the user until the user enters Zero. \n",
    "# Display the sum and average of all the numbers.\n",
    "\n",
    "count = 0\n",
    "sum = 0\n",
    "while(True):\n",
    "    num = int(input(\"Enter a number :- \"))\n",
    "    if(num == 0):\n",
    "        break\n",
    "    count += 1;\n",
    "    sum += num\n",
    "\n",
    "avg = sum / count\n",
    "print(\"Sum of numbers is :- \",sum)\n",
    "print(\"Average of number is :- \",avg)"
   ]
  },
  {
   "cell_type": "code",
   "execution_count": 54,
   "id": "85b28dc6-1aa0-474b-886d-549263eb4f68",
   "metadata": {},
   "outputs": [
    {
     "name": "stdout",
     "output_type": "stream",
     "text": [
      "2002,2009,2016,2023,2037,2044,2051,2058,2072,2079,2086,2093,2107,2114,2121,2128,2142,2149,2156,2163,2177,2184,2191,2198,2212,2219,2226,2233,2247,2254,2261,2268,2282,2289,2296,2303,2317,2324,2331,2338,2352,2359,2366,2373,2387,2394,2401,2408,2422,2429,2436,2443,2457,2464,2471,2478,2492,2499,2506,2513,2527,2534,2541,2548,2562,2569,2576,2583,2597,2604,2611,2618,2632,2639,2646,2653,2667,2674,2681,2688,2702,2709,2716,2723,2737,2744,2751,2758,2772,2779,2786,2793,2807,2814,2821,2828,2842,2849,2856,2863,2877,2884,2891,2898,2912,2919,2926,2933,2947,2954,2961,2968,2982,2989,2996,3003,3017,3024,3031,3038,3052,3059,3066,3073,3087,3094,3101,3108,3122,3129,3136,3143,3157,3164,3171,3178,3192,3199,\n",
      "---------------------------------------------------------------------------------------------------------------------------------\n",
      "2002,2009,2016,2023,2037,2044,2051,2058,2072,2079,2086,2093,2107,2114,2121,2128,2142,2149,2156,2163,2177,2184,2191,2198,2212,2219,2226,2233,2247,2254,2261,2268,2282,2289,2296,2303,2317,2324,2331,2338,2352,2359,2366,2373,2387,2394,2401,2408,2422,2429,2436,2443,2457,2464,2471,2478,2492,2499,2506,2513,2527,2534,2541,2548,2562,2569,2576,2583,2597,2604,2611,2618,2632,2639,2646,2653,2667,2674,2681,2688,2702,2709,2716,2723,2737,2744,2751,2758,2772,2779,2786,2793,2807,2814,2821,2828,2842,2849,2856,2863,2877,2884,2891,2898,2912,2919,2926,2933,2947,2954,2961,2968,2982,2989,2996,3003,3017,3024,3031,3038,3052,3059,3066,3073,3087,3094,3101,3108,3122,3129,3136,3143,3157,3164,3171,3178,3192,3199\n"
     ]
    }
   ],
   "source": [
    "# Problem 10: Write a program which will find all such numbers which are divisible by 7 but are not a multiple of 5,\n",
    "# between 2000 and 3200 (both included). The numbers obtained should be printed in a comma-separated sequence on a single line.\n",
    "\n",
    "# Method 1 :- Simple way\n",
    "for i in range(2000 , 3201):\n",
    "    if(i % 7 == 0 and i % 5 != 0):\n",
    "        print(i,end = \",\")\n",
    "\n",
    "print()\n",
    "print(\"---------------------------------------------------------------------------------------------------------------------------------\")\n",
    "\n",
    "# Method 2 :- second way using list\n",
    "List = [] \n",
    "for i in range(2000 , 3201):\n",
    "    if(i % 7 == 0 and i % 5 != 0):\n",
    "        List.append(str(i))\n",
    "print(\",\".join(List))"
   ]
  },
  {
   "cell_type": "code",
   "execution_count": 58,
   "id": "8c1c43ce-bd8d-4b89-866b-814f23080ada",
   "metadata": {},
   "outputs": [
    {
     "name": "stdout",
     "output_type": "stream",
     "text": [
      "2000 2002 2004 2006 2008 2020 2022 2024 2026 2028 2040 2042 2044 2046 2048 2060 2062 2064 2066 2068 2080 2082 2084 2086 2088 2200 2202 2204 2206 2208 2220 2222 2224 2226 2228 2240 2242 2244 2246 2248 2260 2262 2264 2266 2268 2280 2282 2284 2286 2288 2400 2402 2404 2406 2408 2420 2422 2424 2426 2428 2440 2442 2444 2446 2448 2460 2462 2464 2466 2468 2480 2482 2484 2486 2488 2600 2602 2604 2606 2608 2620 2622 2624 2626 2628 2640 2642 2644 2646 2648 2660 2662 2664 2666 2668 2680 2682 2684 2686 2688 2800 2802 2804 2806 2808 2820 2822 2824 2826 2828 2840 2842 2844 2846 2848 2860 2862 2864 2866 2868 2880 2882 2884 2886 2888 "
     ]
    }
   ],
   "source": [
    "#Problem 10: Write a program, which will find all such numbers between 1000 and 3000 (both included) \n",
    "#such that each digit of the number is an even number.The numbers obtained should be printed in a space-separated sequence on a single line.\n",
    "\n",
    "for i in range(1000 , 3001):\n",
    "    curr = i\n",
    "    while(i > 0):\n",
    "        rem = i % 10\n",
    "        if(rem % 2 != 0):\n",
    "            break\n",
    "        i = i // 10\n",
    "\n",
    "    if(i == 0):\n",
    "        print(curr , end = \" \")       "
   ]
  },
  {
   "cell_type": "code",
   "execution_count": 40,
   "id": "33bbd25c-17a4-4ff0-8689-1ef34f4d9575",
   "metadata": {},
   "outputs": [
    {
     "ename": "IndentationError",
     "evalue": "unindent does not match any outer indentation level (<string>, line 94)",
     "output_type": "error",
     "traceback": [
      "\u001b[1;36m  File \u001b[1;32m<string>:94\u001b[1;36m\u001b[0m\n\u001b[1;33m    elif(direction == 'RIGHT'):\u001b[0m\n\u001b[1;37m                               ^\u001b[0m\n\u001b[1;31mIndentationError\u001b[0m\u001b[1;31m:\u001b[0m unindent does not match any outer indentation level\n"
     ]
    }
   ],
   "source": [
    "# Problem 11: A robot moves in a plane starting from the original point (0,0). The robot can move toward UP, DOWN,\n",
    "#             LEFT and RIGHT with a given steps. The trace of robot movement is shown as the following:\n",
    "\n",
    "#             UP 5\n",
    "#             DOWN 3\n",
    "#             LEFT 3\n",
    "#             RIGHT 2\n",
    "#             !\n",
    "#             The numbers after the direction are steps.\n",
    "\n",
    "#             ! means robot stop there.\n",
    "\n",
    "#             Please write a program to compute the distance from current position after a sequence of movement and original point.\n",
    "\n",
    "#             If the distance is a float, then just print the nearest integer.\n",
    "\n",
    "#             Example:\n",
    "\n",
    "#             Input:\n",
    "\n",
    "#             UP 5\n",
    "#             DOWN 3\n",
    "#             LEFT 3\n",
    "#             RIGHT 2\n",
    "#             !\n",
    "#             Output: 2\n",
    "\n",
    "\n",
    "#Olution :- 1\n",
    "up = 0\n",
    "dn = 0\n",
    "lt = 0\n",
    "rt = 0\n",
    "ori_pos = [0 , 0]\n",
    "while(True):\n",
    "    mov = str(input(\"\"\"Enter the direction :-  \n",
    "                     \n",
    "                      For upward direction Enter :- up\n",
    "                      For downward direction Enter :- dn\n",
    "                      For left direction Enter :- lt\n",
    "                      For right direction Enter :- rt\n",
    "                    \n",
    "                     AND IF you want to stop the robot then Enter (!) :-\n",
    "                     \n",
    "                     \"\"\"))\n",
    "    if(mov == '!'):\n",
    "               break\n",
    "\n",
    "    else:\n",
    "       if(mov == 'up'):\n",
    "              a = int(input(\"Enter the step in upward direction :- \"))\n",
    "              up += a \n",
    "              ori_pos[1] = up\n",
    "       \n",
    "       elif(mov == 'dn'):\n",
    "              b = int(input(\"Enter the step in downward direction :- \"))\n",
    "              dn = ori_pos[1] - b\n",
    "              ori_pos[1] = dn\n",
    "\n",
    "       elif(mov == 'lt'):\n",
    "              c = int(input(\"Enter the step in left direction :- \"))\n",
    "              lt -= c\n",
    "              ori_pos[0] = lt\n",
    "\n",
    "       elif(mov == 'rt'):\n",
    "              d = int(input(\"Enter the step in right direction :- \"))\n",
    "              rt = ori_pos[0] + d\n",
    "              ori_pos[0] = rt\n",
    "       else:\n",
    "           pass\n",
    "              \n",
    "\n",
    "print(\"NEW POISITION :- \",ori_pos)\n",
    "distance = (ori_pos[0]**2 + ori_pos[1]**2)**0.5\n",
    "print(\"Distance :- \",int(distance))"
   ]
  },
  {
   "cell_type": "code",
   "execution_count": 49,
   "id": "e3cc1802-d9d4-4586-b159-bc517b6c233e",
   "metadata": {},
   "outputs": [
    {
     "name": "stdin",
     "output_type": "stream",
     "text": [
      "Enter the direction and steps :-  UP 5\n",
      "Enter the direction and steps :-  DOWN 3\n",
      "Enter the direction and steps :-  LEFT 3\n",
      "Enter the direction and steps :-  RIGHT 2\n",
      "Enter the direction and steps :-  !\n"
     ]
    },
    {
     "name": "stdout",
     "output_type": "stream",
     "text": [
      "New Position [-1, 2]\n",
      "Distance 2\n"
     ]
    }
   ],
   "source": [
    "#Solution 2 of problem 11 :- \n",
    "pos = [0 , 0]\n",
    "while(True):\n",
    "    mov = input(\"Enter the direction and steps :- \")\n",
    "    if(mov == '!'):\n",
    "        break\n",
    "    else:\n",
    "        direction = mov.split()[0]\n",
    "        steps = int(mov.split() [1])\n",
    "\n",
    "        if(direction == 'UP'):\n",
    "            pos[1] = pos[1] + steps\n",
    "        elif(direction == 'DOWN'):\n",
    "            pos[1] = pos[1] - steps\n",
    "        elif(direction == 'LEFT'):\n",
    "            pos[0] = pos[0] - steps\n",
    "        elif(direction == 'RIGHT'):\n",
    "             pos[0] = pos[0] + steps\n",
    "        else:\n",
    "             pass\n",
    "\n",
    "print(\"New Position\",pos)\n",
    "distance = (pos[0]**2 + pos[1]**2)**0.5\n",
    "print(\"Distance\",int(distance))"
   ]
  },
  {
   "cell_type": "code",
   "execution_count": 63,
   "id": "31402ee4-1567-4658-b97f-25637f81a937",
   "metadata": {},
   "outputs": [
    {
     "name": "stdin",
     "output_type": "stream",
     "text": [
      "Enter a number :-  12\n"
     ]
    },
    {
     "name": "stdout",
     "output_type": "stream",
     "text": [
      "12  is not a Prime Number\n"
     ]
    }
   ],
   "source": [
    "# Problem 12:Write a program to print whether a given number is a prime number or not.\n",
    "check = True\n",
    "num = int(input(\"Enter a number :- \"))                \n",
    "for i in range(2 , num):\n",
    "      if(num % i == 0):\n",
    "            check = False\n",
    "            break\n",
    "\n",
    "if(check == True):\n",
    "    print(num,\" is a Prime Number\")\n",
    "else:\n",
    "    print(num,\" is not a Prime Number\")"
   ]
  },
  {
   "cell_type": "code",
   "execution_count": 73,
   "id": "afb6176a-dfdf-47c3-a80e-254df5577b1d",
   "metadata": {},
   "outputs": [
    {
     "name": "stdin",
     "output_type": "stream",
     "text": [
      "Enter the starting range :-  0\n",
      "Enter the end range :-  200\n"
     ]
    },
    {
     "name": "stdout",
     "output_type": "stream",
     "text": [
      "0 , 1 , 2 , 3 , 4 , 5 , 6 , 7 , 8 , 9 , 153 , "
     ]
    }
   ],
   "source": [
    "# Problem 13:Print all the Armstrong numbers in a given range.\n",
    "# Range will be provided by the user\n",
    "# Armstrong number is a number that is equal to the sum of cubes of its digits. \n",
    "# For example 0, 1, 153, 370, 371 and 407 are the Armstrong numbers.\n",
    "\n",
    "start = int(input(\"Enter the starting range :- \"))\n",
    "end = int(input(\"Enter the end range :- \"))\n",
    "for i in range(start , end + 1):\n",
    "      temp = i\n",
    "      sum = 0\n",
    "      order = len(str(i))\n",
    "      while(i > 0):\n",
    "           rem = i % 10\n",
    "           digit = rem**order\n",
    "           sum += digit\n",
    "           i //= 10\n",
    "      if(temp == sum):\n",
    "          print(temp , end = \" , \")"
   ]
  },
  {
   "cell_type": "code",
   "execution_count": null,
   "id": "8473a683-66b6-4139-806f-ef7e157ef484",
   "metadata": {},
   "outputs": [],
   "source": [
    "# TASK 3 :-"
   ]
  },
  {
   "cell_type": "code",
   "execution_count": 81,
   "id": "8842c501-8238-41d1-9ef0-ae30bc8aabd0",
   "metadata": {},
   "outputs": [
    {
     "name": "stdin",
     "output_type": "stream",
     "text": [
      "Enter a number :-  9\n"
     ]
    },
    {
     "name": "stdout",
     "output_type": "stream",
     "text": [
      "9 8 7 6 5 4 3 2 1 \n",
      "8 7 6 5 4 3 2 1 \n",
      "7 6 5 4 3 2 1 \n",
      "6 5 4 3 2 1 \n",
      "5 4 3 2 1 \n",
      "4 3 2 1 \n",
      "3 2 1 \n",
      "2 1 \n",
      "1 \n"
     ]
    }
   ],
   "source": [
    "# Problem 1 - Print the following pattern. Write a program to use for loop to print the following reverse number pattern.\n",
    "# 5 4 3 2 1 \n",
    "# 4 3 2 1 \n",
    "# 3 2 1 \n",
    "# 2 1 \n",
    "# 1\n",
    "\n",
    "n = int(input(\"Enter a number :- \"))\n",
    "for i in range(1,n + 1):\n",
    "        for j in range(n - i + 1 , 0 , -1):\n",
    "               print(j,end = \" \")\n",
    "        print()      "
   ]
  },
  {
   "cell_type": "code",
   "execution_count": 99,
   "id": "3bb72692-1ea8-43c9-8b77-ed411b22bda2",
   "metadata": {},
   "outputs": [
    {
     "name": "stdin",
     "output_type": "stream",
     "text": [
      "Enter a  number :-  8\n"
     ]
    },
    {
     "name": "stdout",
     "output_type": "stream",
     "text": [
      "\n",
      "* \n",
      "* * \n",
      "* * * \n",
      "* * * * \n",
      "* * * * * \n",
      "* * * * * * \n",
      "* * * * * * * \n",
      "* * * * * * * * \n",
      "* * * * * * * \n",
      "* * * * * * \n",
      "* * * * * \n",
      "* * * * \n",
      "* * * \n",
      "* * \n",
      "* \n"
     ]
    }
   ],
   "source": [
    "# Problem 2: Print the following pattern.\n",
    "# * \n",
    "# * * \n",
    "# * * * \n",
    "# * * * * \n",
    "# * * * * * \n",
    "# * * * * \n",
    "# * * * \n",
    "# * * \n",
    "# *\n",
    "\n",
    "n = int(input(\"Enter a  number :- \"))\n",
    "for i in range(n):\n",
    "    for j in range(i):\n",
    "        print(\"*\" , end = \" \")  \n",
    "    print()\n",
    "\n",
    "for i in range(1,n + 1):\n",
    "        for j in range(n - i + 1 , 0 , -1):\n",
    "               print(\"*\",end = \" \")\n",
    "        print()      "
   ]
  },
  {
   "cell_type": "code",
   "execution_count": 103,
   "id": "21f5bf61-ed36-48f0-83b5-692bed08c947",
   "metadata": {},
   "outputs": [
    {
     "name": "stdin",
     "output_type": "stream",
     "text": [
      "Enter a number :-  6\n"
     ]
    },
    {
     "name": "stdout",
     "output_type": "stream",
     "text": [
      "1 \n",
      "2 1 \n",
      "3 2 1 \n",
      "4 3 2 1 \n",
      "5 4 3 2 1 \n",
      "6 5 4 3 2 1 \n"
     ]
    }
   ],
   "source": [
    "# Problem 3:Write a program to print the following pattern\n",
    "# 1\n",
    "\n",
    "# 2 1\n",
    "\n",
    "# 3 2 1\n",
    "\n",
    "# 4 3 2 1\n",
    "\n",
    "# 5 4 3 2 1\n",
    "\n",
    "n = int(input(\"Enter a number :- \"))\n",
    "for i in range(1 , n + 1):\n",
    "    for j in range(i , 0 , - 1):\n",
    "        print(j , end = \" \")\n",
    "    print()    "
   ]
  },
  {
   "cell_type": "code",
   "execution_count": 123,
   "id": "96e124f0-de31-43d1-b4d1-4e4c18f8000d",
   "metadata": {},
   "outputs": [
    {
     "name": "stdin",
     "output_type": "stream",
     "text": [
      "Enter tha value of x :-  10\n",
      "Enter the value of n :-  5\n"
     ]
    },
    {
     "name": "stdout",
     "output_type": "stream",
     "text": [
      "1 +  x^2/2 +x^3/3 +x^4/4 +x^5/5 \n",
      "Sum of the Series is :-  22884.333333333332\n"
     ]
    }
   ],
   "source": [
    "# Problem 4: Write a Python Program to Find the Sum of the Series till the nth term:\n",
    "# 1 + x^2/2 + x^3/3 + … x^n/n\n",
    "# n will be provided by the user\n",
    "\n",
    "x = int(input(\"Enter tha value of x :- \"))\n",
    "n = int(input(\"Enter the value of n :- \"))\n",
    "\n",
    "sum = 1\n",
    "s = ''\n",
    "print(\"1 + \" , end = \" \")\n",
    "for i in range(2 , n + 1):\n",
    "    sum += (x**i / i)\n",
    "    s += ('x^{}/{} +'.format(i , i))\n",
    "\n",
    "print(s[:-1])\n",
    "print(\"Sum of the Series is :- \",sum)   "
   ]
  },
  {
   "cell_type": "code",
   "execution_count": 151,
   "id": "4c8e9df4-61fb-4ff8-8a73-eeab94b23005",
   "metadata": {},
   "outputs": [
    {
     "name": "stdin",
     "output_type": "stream",
     "text": [
      "Enter a Number :-  5\n"
     ]
    },
    {
     "name": "stdout",
     "output_type": "stream",
     "text": [
      "2+22+222+2222+22222\n",
      "Sum of above series:  24690\n"
     ]
    }
   ],
   "source": [
    "# Problem 5 - Find the sum of the series upto n terms.\n",
    "# Write a program to calculate the sum of series up to n term. For example, \n",
    "# if n = 5 the series will become 2 + 22 + 222 + 2222 + 22222 = 24690. Take the user input and then calculate.\n",
    "# And the output style should match which is given in the example.\n",
    "\n",
    "# Example 1:\n",
    "#           Input: 5\n",
    "\n",
    "#           Output:2+22+222+2222+22222\n",
    "#                  Sum of above series is: 24690\n",
    "\n",
    "n = int(input(\"Enter a Number :- \"))\n",
    "s = ''\n",
    "sum = 0\n",
    "start = 2\n",
    "for i in range(n):\n",
    "    print(start , end = \"\")\n",
    "    if(i != n - 1):\n",
    "        print(\"+\",end = \"\")\n",
    "    sum += start\n",
    "    start = start * 10 + 2\n",
    "print(\"\\nSum of above series: \",sum)    "
   ]
  },
  {
   "cell_type": "code",
   "execution_count": 22,
   "id": "3da88173-9aea-400e-9315-0d3491c48789",
   "metadata": {},
   "outputs": [
    {
     "name": "stdout",
     "output_type": "stream",
     "text": [
      "DSMP\n"
     ]
    }
   ],
   "source": [
    "# Problem 6: Create Short Form from initial character\n",
    "# Given a string create short form ofthe string from Initial character. Short form should be capitalised.\n",
    "\n",
    "# Example:\n",
    "#        Input:Data science mentorship program\n",
    "#        Output:DSMP\n",
    "\n",
    "input = 'Data science mentorship program'\n",
    "result = ''\n",
    "for i in input.split():\n",
    "    result += i[0].upper();\n",
    "print(result)"
   ]
  },
  {
   "cell_type": "code",
   "execution_count": 17,
   "id": "0170140c-afdf-4837-8d62-b76c9aaf1044",
   "metadata": {},
   "outputs": [
    {
     "name": "stdin",
     "output_type": "stream",
     "text": [
      "Enter the first string :-  will\n",
      "Enter the second string :-  do\n"
     ]
    },
    {
     "name": "stdout",
     "output_type": "stream",
     "text": [
      "widoll\n"
     ]
    }
   ],
   "source": [
    "# Problem 7: Append second string in the middle of first string\n",
    "# Input:\n",
    "# campusx\n",
    "# data\n",
    "\n",
    "# Output:\n",
    "# camdatapusx\n",
    "\n",
    "#Solution 1:- It is done by me\n",
    "s1 = input(\"Enter the first string :- \")\n",
    "s2 = input(\"Enter the second string :- \")\n",
    "result = ''\n",
    "avg = len(s1) // 2\n",
    "s1Len = len(s1)\n",
    "s2Len = len(s2)\n",
    "\n",
    "result += s1[0:avg]\n",
    "result += s2[0:s2Len]\n",
    "result += s1[avg:s1Len] \n",
    "\n",
    "print(result)"
   ]
  },
  {
   "cell_type": "code",
   "execution_count": 15,
   "id": "0b297347-c542-409d-b782-c066e47c8255",
   "metadata": {},
   "outputs": [
    {
     "name": "stdin",
     "output_type": "stream",
     "text": [
      "Enter the first string :-  will\n",
      "Enter the second string :-  do\n"
     ]
    },
    {
     "name": "stdout",
     "output_type": "stream",
     "text": [
      "widoll\n"
     ]
    }
   ],
   "source": [
    "#Solution 2:- of problem 7 (camousx ki approach)\n",
    "\n",
    "s1 = input(\"Enter the first string :- \")\n",
    "s2 = input(\"Enter the second string :- \")\n",
    "\n",
    "print(s1[0:len(s1)//2] + s2 + s1[len(s1)//2:len(s1)])"
   ]
  },
  {
   "cell_type": "code",
   "execution_count": 27,
   "id": "7b05335c-2134-4dee-8f7a-4feb394ddef4",
   "metadata": {},
   "outputs": [
    {
     "name": "stdout",
     "output_type": "stream",
     "text": [
      "yaivePNT\n"
     ]
    }
   ],
   "source": [
    "# Problem 8:Given string contains a combination of the lower and upper case letters. Write a program to arrange the characters of a string so that all lowercase letters should come first.\n",
    "# Given:\n",
    "\n",
    "# str1 = PyNaTive\n",
    "\n",
    "# Expected Output:\n",
    "\n",
    "# yaivePNT\n",
    "\n",
    "str1 = 'PyNaTive'\n",
    "\n",
    "lower = ''\n",
    "upper = ''\n",
    "\n",
    "for i in str1:\n",
    "    if i.islower():\n",
    "        lower += i\n",
    "    else:\n",
    "        upper += i\n",
    "\n",
    "print(lower + upper)"
   ]
  },
  {
   "cell_type": "code",
   "execution_count": 37,
   "id": "c77eea3b-d3c1-425f-9a49-0abd0394a6ca",
   "metadata": {},
   "outputs": [
    {
     "name": "stdin",
     "output_type": "stream",
     "text": [
      "Enter alphanumeric string :-  hel123O4every093\n"
     ]
    },
    {
     "name": "stdout",
     "output_type": "stream",
     "text": [
      "Sum :  22\n",
      "Average :  3.142857142857143\n"
     ]
    }
   ],
   "source": [
    "# Problem 9:Take a alphanumeric string input and print the sum and average of the digits that appear in the string,\n",
    "#            ignoring all other characters.\n",
    "# Input:\n",
    "\n",
    "# hel123O4every093\n",
    "\n",
    "# Output:\n",
    "\n",
    "# Sum: 22\n",
    "# Avg: 2.75\n",
    "s = input(\"Enter alphanumeric string :- \")\n",
    "count = 0\n",
    "sum = 0\n",
    "for i in s:\n",
    "    if(i.isdigit()):\n",
    "        sum += int(i)\n",
    "        count += 1\n",
    "\n",
    "print(\"Sum : \",sum)\n",
    "print(\"Average : \",sum/count)"
   ]
  },
  {
   "cell_type": "code",
   "execution_count": 7,
   "id": "0b6c4b52-4426-422a-bf38-74086c95cd08",
   "metadata": {},
   "outputs": [
    {
     "name": "stdout",
     "output_type": "stream",
     "text": [
      "2510\n"
     ]
    }
   ],
   "source": [
    "# Problem 10: Removal of all characters from a string except integers\n",
    "# Given:\n",
    "\n",
    "# str1 = 'I am 25 years and 10 months old'\n",
    "# Expected Output:\n",
    "\n",
    "# 2510\n",
    "\n",
    "s = 'I am 25 years and 10 months old'\n",
    "result = ''\n",
    "for i in s:\n",
    "    if(i.isdigit()):\n",
    "        result += i\n",
    "    \n",
    "print(result)"
   ]
  },
  {
   "cell_type": "code",
   "execution_count": 17,
   "id": "d2293694-4a20-49f2-9963-5f8bc32cbf2f",
   "metadata": {},
   "outputs": [
    {
     "name": "stdin",
     "output_type": "stream",
     "text": [
      "Enter a string :-  madam\n"
     ]
    },
    {
     "name": "stdout",
     "output_type": "stream",
     "text": [
      "The entered string is not symmetrical\n"
     ]
    }
   ],
   "source": [
    "# Problem 11: Check whether the string is Symmetrical.\n",
    "# Statement: Given a string. the task is to check if the string is symmetrical or not. \n",
    "# A string is said to be symmetrical if both the halves of the string are the same.\n",
    "\n",
    "# Example 1:\n",
    "\n",
    "# Input\n",
    "\n",
    "# khokho\n",
    "# Output\n",
    "\n",
    "# The entered string is symmetrical\n",
    "\n",
    "s = input(\"Enter a string :- \")\n",
    "mid = len(s)//2\n",
    "flag = True\n",
    "\n",
    "for i in range(0 , mid):\n",
    "    if(s[i] != s[mid + i]):\n",
    "        flag = False\n",
    "if(flag):\n",
    "    print(\"The entered string is symmetrical\")\n",
    "else:\n",
    "    print(\"The entered string is not symmetrical\")"
   ]
  },
  {
   "cell_type": "code",
   "execution_count": 25,
   "id": "7a1ea9d0-84ed-443d-a8dc-40532e098e25",
   "metadata": {},
   "outputs": [
    {
     "name": "stdin",
     "output_type": "stream",
     "text": [
      "Enter a string :-  geeks quiz practice code\n"
     ]
    },
    {
     "name": "stdout",
     "output_type": "stream",
     "text": [
      "code practice quiz geeks\n"
     ]
    }
   ],
   "source": [
    "# Problem 12: Reverse words in a given String\n",
    "# Statement: We are given a string and we need to reverse words of a given string.\n",
    "\n",
    "# Example 1:\n",
    "\n",
    "# Input:\n",
    "\n",
    "# geeks quiz practice code\n",
    "# Output:\n",
    "\n",
    "# code practice quiz geeks\n",
    "\n",
    "s = input(\"Enter a string :- \")\n",
    "L = []\n",
    "\n",
    "for i in s.split():\n",
    "    L.append(i)\n",
    "L = L[::-1]\n",
    "print(\" \".join(L))"
   ]
  },
  {
   "cell_type": "code",
   "execution_count": 29,
   "id": "04389ecf-7cd0-4c98-95cf-c6f00c1e5edb",
   "metadata": {},
   "outputs": [
    {
     "name": "stdout",
     "output_type": "stream",
     "text": [
      "['apple', 'fruits']\n"
     ]
    }
   ],
   "source": [
    "# Problem 13: Find uncommon words from two Strings.\n",
    "# Statement: Given two sentences as strings A and B. The task is to return a list of all uncommon words. \n",
    "# A word is uncommon if it appears exactly once in any one of the sentences, and does not appear in the other sentence. \n",
    "# Note: A sentence is a string of space-separated words. Each word consists only of lowercase letters.\n",
    "\n",
    "# Example 1:\n",
    "\n",
    "# Input:\n",
    "\n",
    "# A = \"apple banana mango\" \n",
    "# B = \"banana fruits mango\"\n",
    "# Output:\n",
    "\n",
    "# ['apple', 'fruits']\n",
    "\n",
    "#Solution 1:- Done BY ME\n",
    "A = \"apple banana mango\" \n",
    "B = \"banana fruits mango\"\n",
    "\n",
    "L = []\n",
    "\n",
    "#Checking the element of A in B.\n",
    "for i in A.split():\n",
    "    count = 1\n",
    "    for j in B.split():\n",
    "        if(i == j):\n",
    "            count += 2\n",
    "    if(count == 1):\n",
    "        L.append(i)\n",
    "\n",
    "#Checking the element of B in A.\n",
    "for i in B.split():\n",
    "    count = 1\n",
    "    for j in A.split():\n",
    "        if(i == j):\n",
    "            count += 2\n",
    "    if(count == 1):\n",
    "        L.append(i)\n",
    "print(L)        "
   ]
  },
  {
   "cell_type": "code",
   "execution_count": 31,
   "id": "962f5a45-c664-47cc-832b-1c8094b8f6a7",
   "metadata": {},
   "outputs": [
    {
     "name": "stdout",
     "output_type": "stream",
     "text": [
      "['apple', 'fruits']\n"
     ]
    }
   ],
   "source": [
    "#Solution 2 :- of Problem 13.\n",
    "A = \"apple banana mango\" \n",
    "B = \"banana fruits mango\"\n",
    "L = []\n",
    "\n",
    "#Checking the element of A in B.\n",
    "for i in A.split():\n",
    "    if(i not in B and i not in L):\n",
    "        L.append(i)\n",
    "\n",
    "#Checking the element of B in A.\n",
    "for i in B.split():\n",
    "    if(i not in A and i not in L):\n",
    "        L.append(i)\n",
    "print(L)        "
   ]
  },
  {
   "cell_type": "code",
   "execution_count": 37,
   "id": "db84f527-23b7-454a-85e4-7f8b6d1235e3",
   "metadata": {},
   "outputs": [
    {
     "name": "stdout",
     "output_type": "stream",
     "text": [
      "Location of the word is 7\n"
     ]
    }
   ],
   "source": [
    "# Problem 14: Word location in String.\n",
    "# Statement: Find a location of a word in a given sentence.\n",
    "\n",
    "# Example 1:\n",
    "\n",
    "# Input:\n",
    "\n",
    "# Sentence: We can learn data science through campusx mentorship program.\n",
    "\n",
    "# word: campusx\n",
    "# Output:\n",
    "\n",
    "# Location of the word is 7.\n",
    "# Note- Don't use index/find functions\n",
    "s = 'We can learn data science through campusx mentorship program'\n",
    "word = 'campusx'\n",
    "\n",
    "pos = 0\n",
    "for i in s.split():\n",
    "    pos += 1\n",
    "    if(i == word):\n",
    "        break\n",
    "print(\"Location of the word is\",pos)        "
   ]
  },
  {
   "cell_type": "code",
   "execution_count": 45,
   "id": "3c35dc31-4528-4ace-817e-80f59ccae8e6",
   "metadata": {},
   "outputs": [
    {
     "name": "stdin",
     "output_type": "stream",
     "text": [
      "Enter a string :-  aaaaaaaaaaaaaabbbbbbbbbbcccccccccccdddddddddddeeeeeeeeee\n"
     ]
    },
    {
     "name": "stdout",
     "output_type": "stream",
     "text": [
      "abcde\n"
     ]
    }
   ],
   "source": [
    "# Problem 15: Write a program that can remove all the duplicate characters from a string. User will provide the input.\n",
    "s = input(\"Enter a string :- \")\n",
    "\n",
    "result = ''\n",
    "\n",
    "for i in s:\n",
    "    if(i not in result):\n",
    "        result += i\n",
    "print(result)        "
   ]
  },
  {
   "cell_type": "code",
   "execution_count": null,
   "id": "9a9b184f-b3fc-4e5e-a7a5-a5f40cd38ae5",
   "metadata": {},
   "outputs": [],
   "source": [
    "#TASK 4:-"
   ]
  },
  {
   "cell_type": "code",
   "execution_count": 18,
   "id": "64f6a545-3d6c-40e5-9ecf-cae65b15b7ac",
   "metadata": {},
   "outputs": [
    {
     "name": "stdout",
     "output_type": "stream",
     "text": [
      "[['M', 'y'], ['na', 'me'], ['i', 's'], ['Kh', 'an']]\n"
     ]
    }
   ],
   "source": [
    "# Problem 1: Combine two lists index-wise(columns wise)\n",
    "# Write a program to add two lists index-wise. Create a new list that contains the 0th index item from both the list, \n",
    "# then the 1st index item, and so on till the last element. any leftover items will get added at the end of the new list.\n",
    "\n",
    "# Given List:\n",
    "\n",
    "# list1 = [\"M\", \"na\", \"i\", \"Kh\"]\n",
    "# list2 = [\"y\", \"me\", \"s\", \"an\"]\n",
    "# Output:\n",
    "\n",
    "# [['M','y'], ['na', 'me'], ['i', 's'], ['Kh', 'an']]\n",
    "\n",
    "list1 = [\"M\", \"na\", \"i\", \"Kh\"]\n",
    "list2 = [\"y\", \"me\", \"s\", \"an\"]\n",
    "\n",
    "resultant_list = [[i , j] for (i , j) in zip(list1 , list2)]\n",
    "print(resultant_list)"
   ]
  },
  {
   "cell_type": "code",
   "execution_count": 20,
   "id": "a26fed44-a4a5-4b80-9db0-167f3c1d12d7",
   "metadata": {},
   "outputs": [
    {
     "name": "stdout",
     "output_type": "stream",
     "text": [
      "[10, 20, [300, 400, [5000, 6000, 7000], 500], 30, 40]\n"
     ]
    }
   ],
   "source": [
    "# Problem 2: Add new item to list after a specified item\n",
    "# Write a program to add item 7000 after 6000 in the following Python List\n",
    "\n",
    "# list1 = [10, 20, [300, 400, [5000, 6000], 500], 30, 40]\n",
    "# Output:\n",
    "\n",
    "# [10, 20, [300, 400, [5000, 6000, 7000], 500], 30, 40]\n",
    "\n",
    "list1 = [10, 20, [300, 400, [5000, 6000], 500], 30, 40]\n",
    "list1[2][2].append(7000)\n",
    "print(list1)"
   ]
  },
  {
   "cell_type": "code",
   "execution_count": 22,
   "id": "ebd15e83-ce57-4aea-a496-e0805194dc0a",
   "metadata": {},
   "outputs": [
    {
     "name": "stdout",
     "output_type": "stream",
     "text": [
      "Jelly Belly-10\n",
      "Kit Kat-20\n",
      "Double Bubble-34\n",
      "Milky Way-74\n",
      "Three Musketeers-32\n"
     ]
    }
   ],
   "source": [
    "# Problem 3: Update no of items available\n",
    "# Suppose you are given a list of candy and another list of same size representing no of items of respective candy.\n",
    "\n",
    "# i.e -\n",
    "\n",
    "# candy_list = ['Jelly Belly','Kit Kat','Double Bubble','Milky Way','Three Musketeers']\n",
    "# no_of_items = [10,20,34,74,32]\n",
    "# Write a program to show no. of items of each candy type.\n",
    "\n",
    "# Output:\n",
    "\n",
    "# Jelly Belly-10\n",
    "# Kit Kat-20\n",
    "# Double Bubble-34\n",
    "# Milky Way-74\n",
    "# Three Musketeers-32\n",
    "\n",
    "\n",
    "#Solution 1:- \n",
    "candy_list = ['Jelly Belly','Kit Kat','Double Bubble','Milky Way','Three Musketeers']\n",
    "no_of_items = [10,20,34,74,32]\n",
    "\n",
    "for i in range(len(candy_list)):\n",
    "    print(candy_list[i],end = \"-\")\n",
    "    for j in range(i , i + 1):\n",
    "        print(no_of_items[j])"
   ]
  },
  {
   "cell_type": "code",
   "execution_count": 24,
   "id": "c9dd1ea7-c3c2-4f45-917d-b699296e3d8f",
   "metadata": {},
   "outputs": [
    {
     "name": "stdout",
     "output_type": "stream",
     "text": [
      "Jelly Belly - 10\n",
      "Kit Kat - 20\n",
      "Double Bubble - 34\n",
      "Milky Way - 74\n",
      "Three Musketeers - 32\n"
     ]
    }
   ],
   "source": [
    "#Solution 2:- of problem 3.\n",
    "candy_list = ['Jelly Belly','Kit Kat','Double Bubble','Milky Way','Three Musketeers']\n",
    "no_of_items = [10,20,34,74,32]\n",
    "\n",
    "for (i , j) in zip(candy_list ,no_of_items):\n",
    "    print(i,'-',j)"
   ]
  },
  {
   "cell_type": "code",
   "execution_count": 30,
   "id": "0edea740-ef73-4fdc-8c7e-801c385dc0d7",
   "metadata": {},
   "outputs": [
    {
     "name": "stdout",
     "output_type": "stream",
     "text": [
      "[1, 3, 6, 10, 15, 21]\n"
     ]
    }
   ],
   "source": [
    "# Problem 4: Running Sum on list\n",
    "# Write a program to print a list after performing running sum on it.\n",
    "\n",
    "# i.e:\n",
    "\n",
    "# Input:\n",
    "\n",
    "# list1 = [1,2,3,4,5,6]\n",
    "# Output:\n",
    "\n",
    "# [1,3,6,10,15,21]\n",
    "\n",
    "list1 = [1,2,3,4,5,6]\n",
    "sum = 0\n",
    "list2 = []\n",
    "\n",
    "for i in list1:\n",
    "    sum += i\n",
    "    list2.append(sum)\n",
    "print(list2)    "
   ]
  },
  {
   "cell_type": "code",
   "execution_count": 34,
   "id": "88a20d93-b16e-4065-b6d6-1393fe8a5c18",
   "metadata": {},
   "outputs": [
    {
     "name": "stdout",
     "output_type": "stream",
     "text": [
      "[22, 20, 16, 10, 23]\n"
     ]
    }
   ],
   "source": [
    "# Problem 5: You are given a list of integers. You are asked to make a list by running through \n",
    "#            elements of the list by adding all elements greater and itself.\n",
    "# i.e. Say given list is [2,4,6,10,1] resultant list will be [22,20,10,23].\n",
    "\n",
    "# For 1st element 2 ->> these are greater (4+6+10) values and 2 itself so on adding becomes 22.\n",
    "\n",
    "# For 2nd element 4 ->> greater elements are (6, 10) and 4 itself, so on adding 20\n",
    "\n",
    "# like wise for all other elememts.\n",
    "\n",
    "# [2,4,6,10,1]-->[22,20,16,10,23]\n",
    "\n",
    "# Solution 1:-\n",
    "list1 = [2,4,6,10,1]\n",
    "resultant_list = []\n",
    "\n",
    "for i in range(len(list1)):\n",
    "    sum = 0\n",
    "    sum += list1[i]\n",
    "    for j in range(0, len(list1)):\n",
    "        if(list1[j] > list1[i]):\n",
    "            sum += list1[j]\n",
    "    resultant_list.append(sum)\n",
    "\n",
    "print(resultant_list)"
   ]
  },
  {
   "cell_type": "code",
   "execution_count": 36,
   "id": "a6f06761-5a5e-4985-88bd-a6f9004dba25",
   "metadata": {},
   "outputs": [
    {
     "name": "stdout",
     "output_type": "stream",
     "text": [
      "[22, 20, 16, 10, 23]\n"
     ]
    }
   ],
   "source": [
    "# Solution 2:-of problem 5\n",
    "list1 = [2,4,6,10,1]\n",
    "resultant_list = []\n",
    "\n",
    "for i in list1:\n",
    "    sum = 0\n",
    "    for j in list1:\n",
    "        if(j >= i):\n",
    "            sum += j\n",
    "    resultant_list.append(sum)\n",
    "print(resultant_list)"
   ]
  },
  {
   "cell_type": "code",
   "execution_count": 46,
   "id": "d8385380-7dba-4a48-87c2-4714eca6319c",
   "metadata": {},
   "outputs": [
    {
     "name": "stdout",
     "output_type": "stream",
     "text": [
      "[34, 67, 89]\n"
     ]
    }
   ],
   "source": [
    "# Problem 6: Find list of common unique items from two list. and show in increasing order\n",
    "# Input\n",
    "\n",
    "# num1 = [23,45,67,78,89,34]\n",
    "# num2 = [34,89,55,56,39,67]\n",
    "# Output:\n",
    "\n",
    "# [34, 67, 89]\n",
    "\n",
    "num1 = [23,45,67,78,89,34]\n",
    "num2 = [34,89,55,56,39,67]\n",
    "\n",
    "common = []\n",
    "for i in num1:\n",
    "    if(i in num2):\n",
    "        common.append(i)\n",
    "\n",
    "print(sorted(set(common)))"
   ]
  },
  {
   "cell_type": "code",
   "execution_count": 72,
   "id": "7a21f66d-e8ea-42db-a5c6-0253deb604fa",
   "metadata": {},
   "outputs": [
    {
     "name": "stdout",
     "output_type": "stream",
     "text": [
      "['456', '23fg', '1ac21', 'kls', '1', '098d']\n"
     ]
    }
   ],
   "source": [
    "# Problem 7: Sort a list of alphanumeric strings based on product value of numeric character in it. \n",
    "# If in any string there is no numeric character take it's product value as 1.\n",
    "# Input:\n",
    "\n",
    "# ['1ac21', '23fg', '456', '098d','1','kls']\n",
    "# Output:\n",
    "\n",
    "# ['456', '23fg', '1ac21', '1', 'kls', '098d']\n",
    "\n",
    "list1 = ['1ac21', '23fg', '456', '098d','1','kls']\n",
    "prod_val = []\n",
    "\n",
    "for i in list1:\n",
    "    prd = 1\n",
    "    for j in i:\n",
    "        if(j.isdigit()):\n",
    "            prd *= int(j)\n",
    "    prod_val.append(prd)\n",
    "\n",
    "resultant_list = [i[1] for i in sorted(zip(prod_val , list1) , reverse = True)]\n",
    "print(resultant_list)"
   ]
  },
  {
   "cell_type": "code",
   "execution_count": 105,
   "id": "6f792ce4-0db4-42e2-91fd-cbdc6b30e449",
   "metadata": {},
   "outputs": [
    {
     "name": "stdout",
     "output_type": "stream",
     "text": [
      "campux is best channel\n"
     ]
    }
   ],
   "source": [
    "# Convert Character Matrix to single String using string comprehension.\n",
    "# Example 1:\n",
    "\n",
    "# Input:\n",
    "\n",
    "# [['c', 'a', 'm', 'p', 'u', 'x'], ['i', 's'], ['b', 'e', 's', 't'], ['c', 'h', 'a', 'n', 'n', 'e', 'l']]\n",
    "# Output:\n",
    "\n",
    "# campux is best channel\n",
    "\n",
    "list = [['c', 'a', 'm', 'p', 'u', 'x'], ['i', 's'], ['b', 'e', 's', 't'], ['c', 'h', 'a', 'n', 'n', 'e', 'l']]\n",
    "\n",
    "print(\" \".join([\"\".join(i) for i in list]))   "
   ]
  },
  {
   "cell_type": "code",
   "execution_count": 109,
   "id": "5e62c3b2-cd51-4d08-b80e-ad8739b02cef",
   "metadata": {},
   "outputs": [
    {
     "name": "stdout",
     "output_type": "stream",
     "text": [
      "['campusx Is', 'best For', 'data Scientist']\n"
     ]
    }
   ],
   "source": [
    "# Problem 10: Add Space between Potential Words.\n",
    "# Example:\n",
    "\n",
    "# Input:\n",
    "\n",
    "# ['campusxIs', 'bestFor', 'dataScientist']\n",
    "# Output:\n",
    "\n",
    "# ['campusx Is', 'best For', 'data Scientist']\n",
    "\n",
    "list = ['campusxIs', 'bestFor', 'dataScientist']\n",
    "l = []\n",
    "for i in list:\n",
    "    s = ''\n",
    "    for j in i:\n",
    "        if(j.isupper()):\n",
    "            s += ' '\n",
    "        s += j \n",
    "    l.append(s)\n",
    "print(l)    "
   ]
  },
  {
   "cell_type": "code",
   "execution_count": 133,
   "id": "c43315bc-87a0-404d-8f18-1b0eb1ad3b04",
   "metadata": {},
   "outputs": [
    {
     "name": "stdout",
     "output_type": "stream",
     "text": [
      "[1, 2, 3, 4, 5, 7, 8]\n"
     ]
    }
   ],
   "source": [
    "# Problem 11: Write a program that can perform union operation on 2 lists\n",
    "# Example:\n",
    "\n",
    "# Input:\n",
    "\n",
    "# [1,2,3,4,5,1]\n",
    "# [2,3,5,7,8]\n",
    "# Output:\n",
    "\n",
    "# [1,2,3,4,5,7,8]\n",
    "\n",
    "list1 =  [1,2,3,4,5,1]\n",
    "list2 =  [2,3,5,7,8]\n",
    "Union = []\n",
    "\n",
    "for i in list1:\n",
    "    if(i not in Union):\n",
    "        Union.append(i)\n",
    "\n",
    "for j in list2:\n",
    "    if(j not in Union):\n",
    "        Union.append(j)\n",
    "print(Union)        "
   ]
  },
  {
   "cell_type": "code",
   "execution_count": 145,
   "id": "c4373a6b-01af-462a-b022-6cf9cc4111a8",
   "metadata": {},
   "outputs": [
    {
     "name": "stdout",
     "output_type": "stream",
     "text": [
      "[3, 6, 9]\n"
     ]
    }
   ],
   "source": [
    "# Problem 12: Write a program that can find the max number of each row of a matrix\n",
    "# Example:\n",
    "\n",
    "# Input:\n",
    "\n",
    "# [[1,2,3],[4,5,6],[7,8,9]]\n",
    "# Output:\n",
    "\n",
    "# [3,6,9]\n",
    "\n",
    "#Solution 1:- \n",
    "L = [[1,2 ,3],[4,5,6],[7,8,9]]\n",
    "Max = []\n",
    "\n",
    "for i in range(0 , len(L)):\n",
    "    max = 0\n",
    "    for j in range(0 , len(L[i])):\n",
    "        if(L[i][j] > max):\n",
    "            max = L[i][j]\n",
    "    Max.append(max)   \n",
    "\n",
    "print(Max)"
   ]
  },
  {
   "cell_type": "code",
   "execution_count": 1,
   "id": "d3e10dee-201e-40d9-a4f0-915b095cc4d0",
   "metadata": {},
   "outputs": [
    {
     "name": "stdout",
     "output_type": "stream",
     "text": [
      "[3, 6, 9]\n"
     ]
    }
   ],
   "source": [
    "#Solution 2:- of problem 12 max() function.\n",
    "L = [[1,2 ,3],[4,5,6],[7,8,9]]\n",
    "result = []\n",
    "\n",
    "for i in L:\n",
    "    result.append(max(i))\n",
    "\n",
    "print(result)"
   ]
  },
  {
   "cell_type": "code",
   "execution_count": 3,
   "id": "e2d653f5-8d42-43ba-828f-62bb33acc1b8",
   "metadata": {},
   "outputs": [
    {
     "name": "stdout",
     "output_type": "stream",
     "text": [
      "[[[0, 1, 2]], [[3, 4, 5]], [[6, 7, 8]]]\n"
     ]
    }
   ],
   "source": [
    "# Problem 13: Write a list comprehension to print the following matrix\n",
    "# [[0, 1, 2], [3, 4, 5], [6, 7, 8]]\n",
    "\n",
    "print([[j for j in range(0,3)] for i in range(0,3)])"
   ]
  },
  {
   "cell_type": "code",
   "execution_count": 3,
   "id": "e41d2460-dc9e-44c0-95d6-b39acb813b7e",
   "metadata": {},
   "outputs": [
    {
     "name": "stdout",
     "output_type": "stream",
     "text": [
      "[[1, 4, 7], [2, 5, 8], [3, 6, 9]]\n"
     ]
    }
   ],
   "source": [
    "# Problem 14: Write a list comprehension that can transpose a given matrix\n",
    "# matrix = [\n",
    "# [1,2,3],\n",
    "# [4,5,6],\n",
    "# [7,8,9]\n",
    "# ]\n",
    "\n",
    "# [1, 4, 7]\n",
    "# [2, 5, 8]\n",
    "# [3, 6, 9]\n",
    "\n",
    "matrix = [\n",
    "[1,2,3],\n",
    "[4,5,6],\n",
    "[7,8,9]\n",
    "]\n",
    "\n",
    "print([[row[i] for row in matrix] for i in range(len(matrix))])"
   ]
  },
  {
   "cell_type": "code",
   "execution_count": 13,
   "id": "9e8c3cec-64ac-4838-861e-c0107279ad3e",
   "metadata": {},
   "outputs": [
    {
     "name": "stdout",
     "output_type": "stream",
     "text": [
      "[1, 2, 3, 4, 5, 6, 7, 8, 9]\n"
     ]
    }
   ],
   "source": [
    "# Problem 15: Write a list comprehension that can flatten a nested list\n",
    "# Input\n",
    "# matrix = [\n",
    "# [1,2,3],\n",
    "# [4,5,6],\n",
    "# [7,8,9]\n",
    "# ]\n",
    "\n",
    "# Output:\n",
    "# [1, 2, 3, 4, 5, 6, 7, 8, 9]\n",
    "\n",
    "matrix = [\n",
    "[1,2,3],\n",
    "[4,5,6],\n",
    "[7,8,9]\n",
    "]\n",
    "\n",
    "print([item for j in matrix for item in j])"
   ]
  },
  {
   "cell_type": "code",
   "execution_count": null,
   "id": "f4641a28-6b73-414c-b636-910b8bebce8a",
   "metadata": {},
   "outputs": [],
   "source": [
    "#TASK 5"
   ]
  },
  {
   "cell_type": "code",
   "execution_count": null,
   "id": "21b1a2c5-d687-431e-a85c-5fe99f12b17c",
   "metadata": {},
   "outputs": [],
   "source": [
    "#TUPLE"
   ]
  },
  {
   "cell_type": "code",
   "execution_count": 13,
   "id": "25339cda-3a4c-4499-95e2-31b694f9d806",
   "metadata": {},
   "outputs": [
    {
     "name": "stdout",
     "output_type": "stream",
     "text": [
      "[(5, 6, 7, 8), (6, 10), (7, 13)]\n"
     ]
    }
   ],
   "source": [
    "# Q1: Join Tuples if similar initial element\n",
    "# While working with Python tuples, we can have a problem in which we need to perform concatenation \n",
    "# of records from the similarity of initial element. This problem can have applications in data domains such as Data Science.\n",
    "\n",
    "# For eg.\n",
    "\n",
    "# Input  : test_list = [(5, 6), (5, 7), (5, 8), (6, 10), (7, 13)] \n",
    "# Output : [(5, 6, 7, 8), (6, 10), (7, 13)] \n",
    "\n",
    "test_list = [(5, 6), (5, 7), (5, 8), (6, 10), (7, 13)]\n",
    "unique = []\n",
    "\n",
    "for i in test_list:\n",
    "    unique.append(i[0])\n",
    "unique = set(unique)    \n",
    "\n",
    "result = []\n",
    "\n",
    "for i in unique:\n",
    "    result.append([i])\n",
    "    for j in test_list:\n",
    "        if(j[0] == i):\n",
    "            result[-1].append(j[1])\n",
    "print(list(map(tuple , result)))"
   ]
  },
  {
   "cell_type": "code",
   "execution_count": 31,
   "id": "825fb0fc-6dc3-4704-a5d0-cbf2aba8d10f",
   "metadata": {},
   "outputs": [
    {
     "name": "stdout",
     "output_type": "stream",
     "text": [
      "(5, 40, 91, 136, 80)\n"
     ]
    }
   ],
   "source": [
    "# Q2: Multiply Adjacent elements (both side) and take sum of right and left side multiplication result.\n",
    "# For eg.\n",
    "\n",
    "# The original tuple : (1, 5, 7, 8, 10)\n",
    "# Resultant tuple after multiplication : \n",
    "\n",
    "# (1*5, 1*5+5*7, 7*5 + 7*8, 8*7 + 8*10, 10*8) -> (5, 40, 91, 136, 80)\n",
    "\n",
    "# output-(5, 40, 91, 136, 80)\n",
    "\n",
    "tup = (1, 5, 7, 8, 10)\n",
    "list = []\n",
    "list.append(tup[0] * tup[1])\n",
    "\n",
    "for i in range(1 ,len(tup) - 1):\n",
    "    list.append((tup[i] * tup[i - 1]) +(tup[i] * tup[i + 1]))\n",
    "\n",
    "list.append(tup[len(tup) - 1] * tup[len(tup) - 2])  \n",
    "print(tuple(list))"
   ]
  },
  {
   "cell_type": "code",
   "execution_count": 7,
   "id": "22a11035-f60a-4f70-af0e-e1405e75eea7",
   "metadata": {},
   "outputs": [
    {
     "name": "stdout",
     "output_type": "stream",
     "text": [
      "t1 and t2 are not same\n"
     ]
    }
   ],
   "source": [
    "# Q3: Check is tuples are same or not?\n",
    "# Two tuples would be same if both tuples have same element at same index\n",
    "\n",
    "# t1 = (1,2,3,0)\n",
    "# t2 = (0,1,2,3)\n",
    "\n",
    "# t1 and t2 are not same\n",
    "\n",
    "#Solution 1:-\n",
    "t1 = (0,1,2,3)\n",
    "t2 = (1,2,3,0)\n",
    "flag = True\n",
    "for i in range(0 , len(t1)):\n",
    "    for j in range(i , i + 1):\n",
    "        if(t1[i] != t2[j]):\n",
    "            flag = False\n",
    "            break;\n",
    "    if(flag == False):\n",
    "        break;\n",
    "if(flag):\n",
    "    print(\"t1 and t2 are same\")\n",
    "else:\n",
    "    print(\"t1 and t2 are not same\")"
   ]
  },
  {
   "cell_type": "code",
   "execution_count": 5,
   "id": "e1636e6e-383b-4008-b098-e68a8fb3931f",
   "metadata": {},
   "outputs": [
    {
     "name": "stdout",
     "output_type": "stream",
     "text": [
      "t1 and t2 are same\n"
     ]
    }
   ],
   "source": [
    "#Solution 2:- of Q3\n",
    "t1 = (1,2,3)\n",
    "t2 = (1,2,3)\n",
    "flag = True\n",
    "\n",
    "for i,j in zip(t1 , t2):\n",
    "    if(i == j):\n",
    "        continue\n",
    "    else:\n",
    "        flag = False\n",
    "        break\n",
    "\n",
    "if(flag):\n",
    "    print(\"t1 and t2 are same\")\n",
    "else:\n",
    "    print(\"t1 and t2 are not same\")"
   ]
  },
  {
   "cell_type": "code",
   "execution_count": 15,
   "id": "e8b09472-06ee-4d22-85e9-9de46954d04c",
   "metadata": {},
   "outputs": [
    {
     "name": "stdout",
     "output_type": "stream",
     "text": [
      "List-2\n",
      "Set-2\n",
      "Tuples-1\n"
     ]
    }
   ],
   "source": [
    "# Q4: Count no of tuples, list and set from a list\n",
    "# list1 = [{'hi', 'bye'},{'Geeks', 'forGeeks'},('a', 'b'),['hi', 'bye'],['a', 'b']]\n",
    "# Output:\n",
    "\n",
    "# List-2\n",
    "# Set-2\n",
    "# Tuples-1\n",
    "\n",
    "#Solution 1:-\n",
    "list1 = [{'hi', 'bye'},{'Geeks', 'forGeeks'},('a', 'b'),['hi', 'bye'],['a', 'b']]\n",
    "list_cnt = 0\n",
    "set_cnt = 0\n",
    "tuple_cnt = 0\n",
    "\n",
    "for i in list1:\n",
    "    if(isinstance(i , list)):\n",
    "        list_cnt += 1\n",
    "    elif(isinstance(i , set)):\n",
    "        set_cnt += 1\n",
    "    elif(isinstance(i , tuple)):\n",
    "        tuple_cnt += 1\n",
    "    else:\n",
    "        pass\n",
    "\n",
    "print(f\"List-{list_cnt}\")\n",
    "print(f\"Set-{set_cnt}\")\n",
    "print(f\"Tuples-{tuple_cnt}\")"
   ]
  },
  {
   "cell_type": "code",
   "execution_count": 23,
   "id": "55035986-e03f-41de-bcb2-ea71600435ab",
   "metadata": {},
   "outputs": [
    {
     "name": "stdout",
     "output_type": "stream",
     "text": [
      "List-2 \n",
      "Set-2 \n",
      "Tuple-1\n"
     ]
    }
   ],
   "source": [
    "#Solution 2:- of Q4:-\n",
    "list1 = [{'hi', 'bye'},{'Geeks', 'forGeeks'},('a', 'b'),['hi', 'bye'],['a', 'b']]\n",
    "output = [0,0,0]\n",
    "\n",
    "for i in list1:\n",
    "    if(type(i) == list):\n",
    "        output[0] += 1\n",
    "    elif(type(i) == set):\n",
    "        output[1] += 1\n",
    "    elif(type(i) == tuple):\n",
    "        output[2] += 1\n",
    "    else:\n",
    "        pass\n",
    "\n",
    "print(f\"List-{output[0]} \\nSet-{output[1]} \\nTuple-{output[2]}\")"
   ]
  },
  {
   "cell_type": "code",
   "execution_count": 17,
   "id": "a9eb4c33-eccd-4ef0-bdc1-7e6414a10c8a",
   "metadata": {},
   "outputs": [
    {
     "name": "stdin",
     "output_type": "stream",
     "text": [
      "Enter No of records :-  2\n"
     ]
    },
    {
     "name": "stdout",
     "output_type": "stream",
     "text": [
      "\n",
      "Enter Details of student :-  1\n"
     ]
    },
    {
     "name": "stdin",
     "output_type": "stream",
     "text": [
      "Enter Student name :- fsfs\n",
      "Enter Higher Education :-  sfsfs\n",
      "Enter Primary Skill :-  sfs\n",
      "Enter Year of Graduation :-  2022\n"
     ]
    },
    {
     "name": "stdout",
     "output_type": "stream",
     "text": [
      "\n",
      "Enter Details of student :-  2\n"
     ]
    },
    {
     "name": "stdin",
     "output_type": "stream",
     "text": [
      "Enter Student name :- ssf\n",
      "Enter Higher Education :-  dsfsf\n",
      "Enter Primary Skill :-  sfs\n",
      "Enter Year of Graduation :-  22\n"
     ]
    },
    {
     "name": "stdout",
     "output_type": "stream",
     "text": [
      "\n",
      "Enter Job Role Requirement\n"
     ]
    },
    {
     "name": "stdin",
     "output_type": "stream",
     "text": [
      "Enter Skill :-  sss\n",
      "Enter Higher Education :-  sfs\n",
      "Enter Year Of Graducation :-  23\n"
     ]
    },
    {
     "name": "stdout",
     "output_type": "stream",
     "text": [
      "\n",
      "No such candidate\n"
     ]
    }
   ],
   "source": [
    "# Q5: Shortlist Students for a Job role\n",
    "# Ask user to input students record and store in tuples for each record. \n",
    "# Then Ask user to input three things he wants in the candidate- Primary Skill, Higher Education, Year of Graduation.\n",
    "\n",
    "# Show every students record in form of tuples if matches all required criteria.\n",
    "\n",
    "# It is assumed that there will be only one primry skill.\n",
    "\n",
    "# If no such candidate found, print No such candidate\n",
    "\n",
    "# Input:\n",
    "\n",
    "# Enter No of records- 2\n",
    "# Enter Details of student-1\n",
    "# Enter Student name- Manohar\n",
    "# Enter Higher Education- B.Tech\n",
    "# Enter Primary Skill- Python\n",
    "# Enter Year of Graduation- 2022\n",
    "# Enter Details of student-2\n",
    "# Enter Student name- Ponian\n",
    "# Enter Higher Education- B.Sc.\n",
    "# Enter Primary Skill- C++\n",
    "# Enter Year of Graduation- 2020\n",
    "\n",
    "# Enter Job Role Requirement\n",
    "# Enter Skill- Python\n",
    "# Enter Higher Education- B.Tech\n",
    "# Enter Year of Graduation- 2022\n",
    "# Output\n",
    "\n",
    "# ('Manohar', 'B.tech', 'Python', '2022')\n",
    "\n",
    "student_info = []\n",
    "records = int(input(\"Enter No of records :- \"))\n",
    "print()\n",
    "for i in range(0 , records):\n",
    "    print(\"Enter Details of student :- \" ,i + 1)\n",
    "    name = input(\"Enter Student name :-\")\n",
    "    h_edu = input(\"Enter Higher Education :- \")\n",
    "    p_skill = input(\"Enter Primary Skill :- \")\n",
    "    y_of_grad = int(input(\"Enter Year of Graduation :- \"))\n",
    "    student_info.append((name , h_edu , p_skill , y_of_grad))\n",
    "    print()\n",
    "\n",
    "\n",
    "print(\"Enter Job Role Requirement\")\n",
    "skill = input(\"Enter Skill :- \")\n",
    "edu = input(\"Enter Higher Education :- \")\n",
    "year = int(input(\"Enter Year Of Graducation :- \"))\n",
    "print()\n",
    "\n",
    "flag = False\n",
    "\n",
    "for i in student_info:\n",
    "    if(i[1] == edu and i[2] == skill and i[3] == year):\n",
    "        flag = True\n",
    "        print(i)\n",
    "\n",
    "if(flag == False):\n",
    "    print(\"No such candidate\")"
   ]
  },
  {
   "cell_type": "code",
   "execution_count": 37,
   "id": "4ba1db02-1aad-4035-b311-ac574fd8ca57",
   "metadata": {},
   "outputs": [
    {
     "name": "stdout",
     "output_type": "stream",
     "text": [
      "[80, 20]\n"
     ]
    }
   ],
   "source": [
    "# Q1: Write a program to find set of common elements in three lists using sets.\n",
    "# Input : ar1 = [1, 5, 10, 20, 40, 80]\n",
    "#         ar2 = [6, 7, 20, 80, 100]\n",
    "#         ar3 = [3, 4, 15, 20, 30, 70, 80, 120]\n",
    "\n",
    "# Output : [80, 20]\n",
    "\n",
    "ar1 = [1, 5, 10, 20, 40, 80]\n",
    "ar2 = [6, 7, 20, 80, 100]\n",
    "ar3 = [3, 4, 15, 20, 30, 70, 80, 120]\n",
    "\n",
    "s1 = set(ar1)\n",
    "s2 = set(ar2)\n",
    "s3 = set(ar3)\n",
    "\n",
    "L = list((s1 & s2) & s3)\n",
    "print(L)"
   ]
  },
  {
   "cell_type": "code",
   "execution_count": 61,
   "id": "844597cd-fb43-437a-a4e2-7a54033a9931",
   "metadata": {},
   "outputs": [
    {
     "name": "stdout",
     "output_type": "stream",
     "text": [
      "No of unique Vowels :- 6\n",
      "-------------------------------------------------------------------------------------------------------------------------\n",
      "No of Vowels :-  6\n"
     ]
    }
   ],
   "source": [
    "# Q2: Write a program to count unique number of vowels using sets in a given string. \n",
    "# Lowercase and uppercase vowels will be taken as different.\n",
    "# Input:\n",
    "\n",
    "# Str1 = \"hands-on data science mentorship progrAm with live classes at affordable fee only on CampusX\"\n",
    "# Output:\n",
    "\n",
    "# No of unique vowels-6\n",
    "\n",
    "\n",
    "#Solution 1:-\n",
    "Str1 = \"hands-on data science mentorship progrAm with live classes at affordable fee only on CampusX\"\n",
    "\n",
    "s = set(Str1)\n",
    "vowels = {'a','e','i','o','u','A','E','I','O','U'}\n",
    "count = 0\n",
    "for i in vowels:\n",
    "    for j in s:\n",
    "        if(i == j):\n",
    "            count += 1\n",
    "            break\n",
    "print(\"No of unique Vowels :-\",count)       \n",
    "\n",
    "print(\"-------------------------------------------------------------------------------------------------------------------------\")\n",
    "\n",
    "\n",
    "#SOlution 2:- \n",
    "Str1 = \"hands-on data science mentorship progrAm with live classes at affordable fee only on CampusX\"\n",
    "s = set(Str1)\n",
    "vowels = set('aeiouAEIOU')\n",
    "\n",
    "print(\"No of Vowels :- \",len(s & vowels))"
   ]
  },
  {
   "cell_type": "code",
   "execution_count": 71,
   "id": "bec95164-a559-4759-b3a0-87f733e384f6",
   "metadata": {},
   "outputs": [
    {
     "name": "stdout",
     "output_type": "stream",
     "text": [
      "Binary\n"
     ]
    }
   ],
   "source": [
    "# Q3: Write a program to Check if a given string is binary string of or not.\n",
    "# A string is said to be binary if it's consists of only two unique characters.\n",
    "\n",
    "# Take string input from user.\n",
    "\n",
    "# Input: str = \"01010101010\"\n",
    "# Output: Yes\n",
    "\n",
    "# Input: str = \"1222211\"\n",
    "# Output: Yes\n",
    "\n",
    "# Input: str = \"Campusx\"\n",
    "# Output: No\n",
    "\n",
    "str = \"1222211\"\n",
    "s = set(str)\n",
    "\n",
    "if(len(s) == 2):\n",
    "    print(\"Binary\")\n",
    "else:\n",
    "    print(\"NotBinary\")"
   ]
  },
  {
   "cell_type": "code",
   "execution_count": 83,
   "id": "ec3ac56c-6b0f-4cf6-886f-93328a82598b",
   "metadata": {},
   "outputs": [
    {
     "name": "stdout",
     "output_type": "stream",
     "text": [
      "{1, 2, 3, 4, 5, 6, 7, 9}\n",
      "-------------------------------------------------------------------------------------------------------------------------\n",
      "{1, 2, 3, 4, 5, 6, 7, 9}\n"
     ]
    }
   ],
   "source": [
    "# Q4: find union of n arrays.\n",
    "# Example 1:\n",
    "\n",
    "# Input:\n",
    "\n",
    "# [[1, 2, 2, 4, 3, 6],\n",
    "#  [5, 1, 3, 4],\n",
    "#  [9, 5, 7, 1],\n",
    "#  [2, 4, 1, 3]]\n",
    "# Output:\n",
    "\n",
    "# {1, 2, 3, 4, 5, 6, 7, 9}\n",
    "\n",
    "#Solution 1:-\n",
    "arr = [[1, 2, 2, 4, 3, 6],\n",
    " [5, 1, 3, 4],\n",
    " [9, 5, 7, 1],\n",
    " [2, 4, 1, 3]]\n",
    "\n",
    "L = []\n",
    "for i in arr:\n",
    "    for j in i:\n",
    "        L.append(j)\n",
    "print(set(L))  \n",
    "\n",
    "print(\"-------------------------------------------------------------------------------------------------------------------------\")\n",
    "\n",
    "\n",
    "#Solution 2:-\n",
    "arr = [[1, 2, 2, 4, 3, 6],\n",
    " [5, 1, 3, 4],\n",
    " [9, 5, 7, 1],\n",
    " [2, 4, 1, 3]]\n",
    "\n",
    "s = set()\n",
    "\n",
    "for i in arr:\n",
    "    s.update(i)\n",
    "print(s)    "
   ]
  },
  {
   "cell_type": "code",
   "execution_count": 97,
   "id": "e919cd9f-9655-4a70-a7e3-b65e673325d1",
   "metadata": {},
   "outputs": [
    {
     "name": "stdout",
     "output_type": "stream",
     "text": [
      "[4, 5, 9, 10]\n"
     ]
    }
   ],
   "source": [
    "# Q5: Intersection of two lists. Intersection of two list means we need to take all those elements \n",
    "# which are common to both of the initial lists and store them into another list. Only use using list-comprehension.\n",
    "# Example 1:\n",
    "\n",
    "# Input:\n",
    "\n",
    "# lst1 = {15, 9, 10, 56, 23, 78, 5, 4, 9}\n",
    "# lst2 = {9, 4, 5, 36, 47, 26, 10, 45, 87}\n",
    "# Output:\n",
    "\n",
    "# [9, 10, 4, 5]\n",
    "# Example 2:\n",
    "\n",
    "# Input:\n",
    "\n",
    "# lst1 = {4, 9, 1, 17, 11, 26, 28, 54, 69}\n",
    "# lst2 = {9, 9, 74, 21, 45, 11, 63, 28, 26}\n",
    "# Output:\n",
    "\n",
    "# [9, 11, 26, 28]\n",
    "\n",
    "# lst1 = [15, 9, 10, 56, 23, 78, 5, 4, 9]\n",
    "# lst2 = [9, 4, 5, 36, 47, 26, 10, 45, 87]\n",
    "\n",
    "lst1 = {15, 9, 10, 56, 23, 78, 5, 4, 9}\n",
    "lst2 = {9, 4, 5, 36, 47, 26, 10, 45, 87}\n",
    "\n",
    "print([i for i in lst1 if i in lst2 ])"
   ]
  },
  {
   "cell_type": "code",
   "execution_count": null,
   "id": "c05a8c84-a224-4c9a-af1a-2c7767ba24fa",
   "metadata": {},
   "outputs": [],
   "source": [
    "#Dictionary"
   ]
  },
  {
   "cell_type": "code",
   "execution_count": 101,
   "id": "f5464f7f-9cca-4282-b4e2-8ae88c9d87d3",
   "metadata": {},
   "outputs": [
    {
     "name": "stdout",
     "output_type": "stream",
     "text": [
      "Best : 3\n"
     ]
    }
   ],
   "source": [
    "# Q1: Key with maximum unique values\n",
    "# Given a dictionary with values list, extract key whose value has most unique values.\n",
    "\n",
    "# Example 1:\n",
    "\n",
    "# Input:\n",
    "\n",
    "# test_dict = {\"CampusX\" : [5, 7, 9, 4, 0], \"is\" : [6, 7, 4, 3, 3], \"Best\" : [9, 9, 6, 5, 5]}\n",
    "# Output:\n",
    "\n",
    "# CampusX\n",
    "\n",
    "# Example 2:\n",
    "\n",
    "# Input:\n",
    "\n",
    "# test_dict = {\"CampusX\" : [5, 7, 7, 7, 7], \"is\" : [6, 7, 7, 7], \"Best\" : [9, 9, 6, 5, 5]}\n",
    "# Output:\n",
    "\n",
    "# Best\n",
    "\n",
    "test_dict = {\"CampusX\" : [5, 7, 7, 7, 7], \"is\" : [6, 7, 7, 7], \"Best\" : [9, 9, 6, 5, 5]}\n",
    "maxValue = 0\n",
    "maxKey = ''\n",
    "\n",
    "for key in test_dict:\n",
    "    if(maxValue < len(set(test_dict[key]))):\n",
    "        maxkey = key\n",
    "        maxValue = len(set(test_dict[key]))\n",
    "\n",
    "print(maxkey,\":\",maxValue)"
   ]
  },
  {
   "cell_type": "code",
   "execution_count": 123,
   "id": "e53f2d3b-eb5f-493d-9133-9ffcc9ad98b9",
   "metadata": {},
   "outputs": [
    {
     "name": "stdout",
     "output_type": "stream",
     "text": [
      "CampusX is the best channel for Data-Science students.\n",
      "------------------------------------------------------------------------------------------------------------------------------\n",
      "CampusX best for DS students.\n"
     ]
    }
   ],
   "source": [
    "# Q2: Replace words from Dictionary. Given String, replace it’s words from lookup dictionary.\n",
    "# Example 1:\n",
    "\n",
    "# Input:\n",
    "\n",
    "# test_str = 'CampusX best for DS students.'\n",
    "# repl_dict = {\"best\" : \"is the best channel\", \"DS\" : \"Data-Science\"}\n",
    "# Output:\n",
    "\n",
    "# CampusX is the best channel for Data-Science students.\n",
    "# Example 2:\n",
    "\n",
    "# Input:\n",
    "\n",
    "# test_str = 'CampusX best for DS students.'\n",
    "# repl_dict = {\"good\" : \"is the best channel\", \"ds\" : \"Data-Science\"}\n",
    "# Output:\n",
    "\n",
    "# CampusX best for DS students.\n",
    "\n",
    "\n",
    "#Solution 1:-\n",
    "test_str = 'CampusX best for DS students.'\n",
    "repl_dict = {\"best\" : \"is the best channel\", \"DS\" : \"Data-Science\"}\n",
    "\n",
    "for i in range(0 , len(test_str.split())):\n",
    "    for key in repl_dict:\n",
    "        if(list[i] == key):\n",
    "            list[i] = repl_dict[key]\n",
    "\n",
    "print(\" \".join(list))\n",
    "\n",
    "print(\"------------------------------------------------------------------------------------------------------------------------------\")\n",
    "\n",
    "#Solution 2:-\n",
    "test_str = 'CampusX best for DS students.'\n",
    "repl_dict = {\"good\" : \"is the best channel\", \"ds\" : \"Data-Science\"}\n",
    "L = []\n",
    "\n",
    "for i in test_str.split():\n",
    "    if(i in repl_dict):\n",
    "        L.append(repl_dict[i])\n",
    "    else:\n",
    "        L.append(i)\n",
    "print(\" \".join(L))        "
   ]
  },
  {
   "cell_type": "code",
   "execution_count": 135,
   "id": "172a279b-a444-4365-beac-d5c4191b7cdc",
   "metadata": {},
   "outputs": [
    {
     "name": "stdout",
     "output_type": "stream",
     "text": [
      "[{'name': 'DataScience', 'id': 3}, {'name': 'is', 'id': 8}]\n"
     ]
    }
   ],
   "source": [
    "# Q3: Convert List to List of dictionaries. Given list values and keys list, \n",
    "# convert these values to key value pairs in form of list of dictionaries.\n",
    "# Example 1:\n",
    "\n",
    "# Input:\n",
    "\n",
    "# test_list = [\"DataScience\", 3, \"is\", 8]\n",
    "# key_list = [\"name\", \"id\"]\n",
    "# Output:\n",
    "\n",
    "# [{'name': 'DataScience', 'id': 3}, {'name': 'is', 'id': 8}]\n",
    "# Example 2:\n",
    "\n",
    "# Input:\n",
    "\n",
    "# test_list = [\"CampusX\", 10]\n",
    "# key_list = [\"name\", \"id\"]\n",
    "# Output:\n",
    "\n",
    "# [{'name': 'CampusX', 'id': 10}]\n",
    "\n",
    "test_list = [\"DataScience\", 3, \"is\", 8]\n",
    "key_list = [\"name\", \"id\"]\n",
    "n = len(test_list)\n",
    "result = []\n",
    "\n",
    "for i in range(0 , n , 2):\n",
    "    result.append({key_list[0] : test_list[i] , key_list[1] : test_list[i + 1]})\n",
    "\n",
    "print(result)"
   ]
  },
  {
   "cell_type": "code",
   "execution_count": 149,
   "id": "051e072a-01b5-42e2-9263-e00a173ae1b5",
   "metadata": {},
   "outputs": [
    {
     "name": "stdout",
     "output_type": "stream",
     "text": [
      "{'akash': [10], 'gaurav': [12], 'anand': [14], 'suraj': [20], 'akhil': [25], 'ashish': [30]}\n",
      "---------------------------------------------------------------------------------------------------------------------------------\n",
      "{'A': [1], 'B': [2], 'C': [3]}\n"
     ]
    }
   ],
   "source": [
    "# Q4: Convert a list of Tuples into Dictionary.\n",
    "# Example 1:\n",
    "\n",
    "# Input:\n",
    "\n",
    "# [(\"akash\", 10), (\"gaurav\", 12), (\"anand\", 14), (\"suraj\", 20), (\"akhil\", 25), (\"ashish\", 30)]\n",
    "# Output:\n",
    "\n",
    "# {'akash': [10], 'gaurav': [12], 'anand': [14], 'suraj': [20], 'akhil': [25], 'ashish': [30]}\n",
    "# Example 2:\n",
    "\n",
    "# Input:\n",
    "\n",
    "# [('A', 1), ('B', 2), ('C', 3)]\n",
    "# Output:\n",
    "\n",
    "# {'A': [1], 'B': [2], 'C': [3]}\n",
    "\n",
    "#Solution 1:-\n",
    "inp = [(\"akash\", 10), (\"gaurav\", 12), (\"anand\", 14), (\"suraj\", 20), (\"akhil\", 25), (\"ashish\", 30)]\n",
    "D = {}\n",
    "\n",
    "for i in inp:\n",
    "    for j in (0 , 2):\n",
    "        D[i[0]] = [i[1]]\n",
    "\n",
    "print(D)\n",
    "\n",
    "print(\"---------------------------------------------------------------------------------------------------------------------------------\")\n",
    "#Solution 2:-\n",
    "inp = [('A', 1), ('B', 2), ('C', 3)]\n",
    "res = {}\n",
    "for i,j in inp:\n",
    "    res[i] = [j]\n",
    "\n",
    "print(res)"
   ]
  },
  {
   "cell_type": "code",
   "execution_count": 203,
   "id": "a1cd078b-5234-4cf4-beb3-806e43b304ba",
   "metadata": {},
   "outputs": [
    {
     "name": "stdout",
     "output_type": "stream",
     "text": [
      "['a', 'b', 'c']\n",
      "{'a': [4, 19], 'b': [10, 12], 'c': [3]}\n"
     ]
    }
   ],
   "source": [
    "# Q5: Sort Dictionary key and values List.\n",
    "# Example 1:\n",
    "\n",
    "# Input:\n",
    "\n",
    "# {'c': [3], 'b': [12, 10], 'a': [19, 4]}\n",
    "# Output:\n",
    "\n",
    "# {'a': [4, 19], 'b': [10, 12], 'c': [3]}\n",
    "# Example 2:\n",
    "\n",
    "# Input:\n",
    "\n",
    "# {'c': [10, 34, 3]}\n",
    "# Output:\n",
    "\n",
    "# {'c': [3, 10, 34]}\n",
    "\n",
    "D = {'c': [3], 'b': [12, 10], 'a': [19, 4]}\n",
    "res = {}\n",
    "\n",
    "for i in sorted(D):\n",
    "    res[i] = sorted(D[i])\n",
    "    \n",
    "print(res)"
   ]
  }
 ],
 "metadata": {
  "kernelspec": {
   "display_name": "Python 3 (ipykernel)",
   "language": "python",
   "name": "python3"
  },
  "language_info": {
   "codemirror_mode": {
    "name": "ipython",
    "version": 3
   },
   "file_extension": ".py",
   "mimetype": "text/x-python",
   "name": "python",
   "nbconvert_exporter": "python",
   "pygments_lexer": "ipython3",
   "version": "3.12.4"
  }
 },
 "nbformat": 4,
 "nbformat_minor": 5
}
