{
 "cells": [
  {
   "cell_type": "code",
   "execution_count": null,
   "id": "04253c6a-190b-404d-9361-e6403fcab367",
   "metadata": {},
   "outputs": [],
   "source": [
    "#OOPS PROJECTS"
   ]
  },
  {
   "cell_type": "code",
   "execution_count": 50,
   "id": "dab07062-e274-4cf2-82bd-eddbb3fb3ca9",
   "metadata": {},
   "outputs": [
    {
     "name": "stdout",
     "output_type": "stream",
     "text": [
      "STUDENT DETAILS\n",
      "Student RollNumber :- 101\n",
      "Student Name :- Devashish Jadoun\n",
      "Student Class :- 12th\n",
      "Subjects :- English: 80, Maths: 95, Physics: 85, Chemistry: 70, IT: 98\n",
      "Average marks :- 85.6\n",
      "\n",
      "STUDENT DETAILS\n",
      "Student RollNumber :- 110\n",
      "Student Name :- Deepika Bisht\n",
      "Student Class :- 12th\n",
      "Subjects :- English: 98, Maths: 100, Physics: 99, Chemistry: 98, IT: 100\n",
      "Average marks :- 99.0\n",
      "\n"
     ]
    }
   ],
   "source": [
    "# School students marks project.\n",
    "\n",
    "class Student:\n",
    "    \n",
    "    def __init__(self , student_rollNo , student_name , student_class):\n",
    "        self.student_rollNo = student_rollNo\n",
    "        self.student_name = student_name\n",
    "        self.student_class = student_class\n",
    "        self.subjects = {}\n",
    "    \n",
    "    def add_subjects(self ,subject_name ,subject_marks):\n",
    "         if subject_name not in self.subjects:\n",
    "             self.subjects[subject_name] = subject_marks\n",
    "    \n",
    "    def calculate_avg(self):\n",
    "\n",
    "        if len(self.subjects) == 0:\n",
    "            return 0\n",
    "\n",
    "        total_marks = sum(self.subjects.values())\n",
    "        total_no_of_subjects = len(self.subjects)\n",
    "        return total_marks / total_no_of_subjects\n",
    "\n",
    "    def show_info(self):\n",
    "\n",
    "        print(\"STUDENT DETAILS\")\n",
    "        print(f\"Student RollNumber :- {self.student_rollNo}\")\n",
    "        print(f\"Student Name :- {self.student_name}\")\n",
    "        print(f\"Student Class :- {self.student_class}\")\n",
    "        # Formatting subjects and marks into a single string\n",
    "        subjects_info = ', '.join(f\"{subject}: {marks}\" for subject, marks in self.subjects.items())\n",
    "        print(f\"Subjects :- {subjects_info}\")\n",
    "        \n",
    "        average = self.calculate_avg()\n",
    "        print(f\"Average marks :- {average}\")\n",
    "        print()\n",
    "\n",
    "\n",
    "student1 = Student(101 , 'Devashish Jadoun' , '12th')\n",
    "student1.add_subjects('English' , 80)\n",
    "student1.add_subjects('Maths' , 95)\n",
    "student1.add_subjects('Physics' , 85)\n",
    "student1.add_subjects('Chemistry' , 70)\n",
    "student1.add_subjects('IT' , 98)\n",
    "\n",
    "student1.show_info()\n",
    "\n",
    "\n",
    "\n",
    "student2 = Student(110 , 'Deepika Bisht' , '12th')\n",
    "student2.add_subjects('English' , 98)\n",
    "student2.add_subjects('Maths' , 100)\n",
    "student2.add_subjects('Physics' , 99)\n",
    "student2.add_subjects('Chemistry' , 98)\n",
    "student2.add_subjects('IT' , 100)\n",
    "\n",
    "student2.show_info()"
   ]
  }
 ],
 "metadata": {
  "kernelspec": {
   "display_name": "Python 3 (ipykernel)",
   "language": "python",
   "name": "python3"
  },
  "language_info": {
   "codemirror_mode": {
    "name": "ipython",
    "version": 3
   },
   "file_extension": ".py",
   "mimetype": "text/x-python",
   "name": "python",
   "nbconvert_exporter": "python",
   "pygments_lexer": "ipython3",
   "version": "3.12.4"
  }
 },
 "nbformat": 4,
 "nbformat_minor": 5
}
